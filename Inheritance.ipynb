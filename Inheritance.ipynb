{
 "cells": [
  {
   "cell_type": "markdown",
   "id": "86b4176e-ed45-4378-a01b-26e07b94bd89",
   "metadata": {},
   "source": [
    "Inheritance : \n",
    "\n",
    "\n",
    "Inheritance allows us to define a class that inherits all the methods and properties from another class.\n",
    "\n",
    "Parent class is the class being inherited from, also called base class.\n",
    "\n",
    "Child class is the class that inherits from another class, also called derived class."
   ]
  },
  {
   "cell_type": "markdown",
   "id": "8c164254-6b21-4167-a5d9-99f1dfcd3ac1",
   "metadata": {},
   "source": [
    "Inheritance :  (reuseablitiy)\n",
    "\n",
    "                   ---- TYPES OF INHERITANCE ----\n",
    "                            \n",
    "                       1) Single Inheritance\n",
    "                       2) Multilevel Inheritance\n",
    "                       3) Multiple Inheritance\n",
    "                       4) Hierichical Inheritance\n",
    "                       5) Hybrid Inheritance"
   ]
  },
  {
   "cell_type": "code",
   "execution_count": 15,
   "id": "7d2642e1-ddfe-4402-8d25-c58e12d6413a",
   "metadata": {},
   "outputs": [
    {
     "name": "stdout",
     "output_type": "stream",
     "text": [
      "Addition: 11\n",
      "Substraction: 6\n",
      "Module: 0\n",
      "Divide: 5.0\n"
     ]
    }
   ],
   "source": [
    "                        ''' Single Inheritance '''\n",
    "                    #---------------------------------\n",
    "\n",
    "class Calculator:\n",
    "    def add(self, a,b):\n",
    "        return a + b\n",
    "   \n",
    "    def subt(self, a,b):\n",
    "        return a - b\n",
    "\n",
    "\n",
    "class NewCal(Calculator):\n",
    "    def modulo(self, a,b):\n",
    "        return a % b\n",
    "\n",
    "    def divide(self, a,b):\n",
    "        return a / b \n",
    "        \n",
    "n = NewCal()\n",
    "print(\"Addition:\",n.add(5,6))          # Addition\n",
    "print(\"Subtraction:\",n.subt(10,4))     # Subtraction\n",
    "print(\"Module:\",n.modulo(20,5))        # Module\n",
    "print(\"Divide:\",n.divide(10,2))        # Divide\n",
    "\n"
   ]
  },
  {
   "cell_type": "code",
   "execution_count": 20,
   "id": "6a2be7f3-11f7-4c14-9c47-ed70fab30ae5",
   "metadata": {},
   "outputs": [
    {
     "data": {
      "text/plain": [
       "'You can uplode pic and share it across'"
      ]
     },
     "execution_count": 20,
     "metadata": {},
     "output_type": "execute_result"
    }
   ],
   "source": [
    "                        \"\"\" Multilevel Inheritance \"\"\"\n",
    "                    #----------------------------------------\n",
    "\n",
    "class App:   # version 0.1\n",
    "    def details(self):\n",
    "        return \"This is the first version of my new App\"\n",
    "\n",
    "a = App()\n",
    "a.details()\n",
    "\n",
    "\n",
    "class AppSecoundVer:\n",
    "    def addOn(self):\n",
    "        return \"You can uplode pic and share it across\"\n",
    "\n",
    "class Latest(AppSecoundVer):\n",
    "    def lat(self):\n",
    "        return \"You can uplode Reels and share it across\"\n",
    "\n",
    "l = Latest()\n",
    "l.addOn() \n",
    "l.lat()\n",
    "\n"
   ]
  },
  {
   "cell_type": "code",
   "execution_count": 3,
   "id": "67ae2ea5-63a7-4698-91ae-962bd2db35a7",
   "metadata": {},
   "outputs": [
    {
     "data": {
      "text/plain": [
       "'We study and we can access everything of our Father and Mother'"
      ]
     },
     "execution_count": 3,
     "metadata": {},
     "output_type": "execute_result"
    }
   ],
   "source": [
    "                        ''' Multiple Inheritance '''\n",
    "                    #------------------------------------\n",
    "\n",
    "class Father:\n",
    "    def work(self):\n",
    "        return \"Father works, he provides!\"\n",
    "\n",
    "\n",
    "\n",
    "class Mother:\n",
    "    def care(self):\n",
    "        return \"Mother nurtures and takes care of us\"\n",
    "\n",
    "\n",
    "class child(Father,Mother):\n",
    "    def study(self):\n",
    "        return \"We study and we can access everything of our Father and Mother\"\n",
    "\n",
    "\n",
    "# f = Father()\n",
    "# f.work()\n",
    "\n",
    "# m = Mother()\n",
    "# m.care()\n",
    "\n",
    "c = child()\n",
    "c.study()\n",
    "\n"
   ]
  },
  {
   "cell_type": "code",
   "execution_count": 4,
   "id": "7e6c0944-1391-4916-a54b-d4eea47bc920",
   "metadata": {},
   "outputs": [
    {
     "data": {
      "text/plain": [
       "'Everything belongs to the parents'"
      ]
     },
     "execution_count": 4,
     "metadata": {},
     "output_type": "execute_result"
    }
   ],
   "source": [
    "                \"\"\" Hierichical Inheritance \"\"\"\n",
    "            #--------------------------------------------\n",
    "\n",
    "class Parent:\n",
    "    def access(self):\n",
    "        return \"Everything belongs to the parents\"\n",
    "\n",
    "\n",
    "class Child1(Parent):\n",
    "    def auth(self):\n",
    "        return \"I am child-1 i can access my parent Properties\"\n",
    "\n",
    "\n",
    "class Child2(Parent):\n",
    "    def autho(self):\n",
    "        return \"I am child-2 i can access my parent Properties\"\n",
    "\n",
    "\n",
    "# p =Parent()\n",
    "# p.access()\n",
    "\n",
    "\n",
    "c1 = Child1() # c1 = className()\n",
    "c1.auth()\n",
    "c1.access()\n",
    "\n",
    "\n",
    "# c2 = Child2()\n",
    "# c2.autho()\n",
    "# c2.access() \n"
   ]
  },
  {
   "cell_type": "code",
   "execution_count": null,
   "id": "8b3713d7-8a5f-4c15-806b-a74e9f8b285f",
   "metadata": {},
   "outputs": [],
   "source": [
    "                                            ''' Hybrid Inheritance '''\n",
    "                                    ---------------------------------------------\n",
    "\n",
    "GrandParents\n",
    "\n",
    "\n"
   ]
  },
  {
   "cell_type": "code",
   "execution_count": 7,
   "id": "9e310f0a-b630-412c-9544-cde93c86fdb6",
   "metadata": {},
   "outputs": [
    {
     "data": {
      "text/plain": [
       "'Everything belongs to the parents.'"
      ]
     },
     "execution_count": 7,
     "metadata": {},
     "output_type": "execute_result"
    }
   ],
   "source": [
    "                ''' Hybrid Inheritance '''\n",
    "            #---------------------------------\n",
    "\n",
    "\n",
    "class Grandparent:\n",
    "    def family_name(self):\n",
    "        return \"The family name is Smith.\"\n",
    "\n",
    "\n",
    "\n",
    "class Parent(Grandparent):\n",
    "    def access(self):\n",
    "        return \"Everything belongs to the parents.\"\n",
    "\n",
    "\n",
    "\n",
    "class Child1(Parent):\n",
    "    def auth(self):\n",
    "        return \"I am Child-1, I can access my parent's properties.\"\n",
    "\n",
    "\n",
    "\n",
    "class Child2(Parent):\n",
    "    def autho(self):\n",
    "        return \"I am Child-2, I can access my parent's properties.\"\n",
    "\n",
    "\n",
    "c1 = Child1()\n",
    "c1.auth()\n",
    "c1.access()\n",
    "    \n"
   ]
  },
  {
   "cell_type": "code",
   "execution_count": 18,
   "id": "05e4f338-c0d3-4d01-bead-7e3971dfda3e",
   "metadata": {},
   "outputs": [
    {
     "data": {
      "text/plain": [
       "' he is eligible for property and use Smith sir name '"
      ]
     },
     "execution_count": 18,
     "metadata": {},
     "output_type": "execute_result"
    }
   ],
   "source": [
    "class Grandparent:\n",
    "    def family_name(self):\n",
    "        return \"The family name is Smith.\"\n",
    "\n",
    "\n",
    "\n",
    "class Parent(Grandparent):\n",
    "    def access(self):\n",
    "        return \"Everything belongs to the parents.\"\n",
    "\n",
    "\n",
    "\n",
    "class Child1(Parent):\n",
    "    def auth(self):\n",
    "        return \"I am Child-1, I can access my parent's properties and use Smith sir name .\"\n",
    "\n",
    "\n",
    "\n",
    "class Child2(Parent):\n",
    "    def autho(self):\n",
    "        return \"I am Child-2, I can give my parent's properties to boy.\"\n",
    "\n",
    "\n",
    "class Boy(Child1,Child2):\n",
    "    def fullaccess(self):\n",
    "        return \" he is eligible for property and use Smith sir name \"\n",
    "        \n",
    "\n",
    "\n",
    "\n",
    "b = Boy()\n",
    "b.fullaccess()\n",
    "#b.auth()    \n"
   ]
  }
 ],
 "metadata": {
  "kernelspec": {
   "display_name": "Python 3 (ipykernel)",
   "language": "python",
   "name": "python3"
  },
  "language_info": {
   "codemirror_mode": {
    "name": "ipython",
    "version": 3
   },
   "file_extension": ".py",
   "mimetype": "text/x-python",
   "name": "python",
   "nbconvert_exporter": "python",
   "pygments_lexer": "ipython3",
   "version": "3.12.7"
  }
 },
 "nbformat": 4,
 "nbformat_minor": 5
}
