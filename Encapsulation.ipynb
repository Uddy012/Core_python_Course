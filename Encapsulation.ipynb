{
 "cells": [
  {
   "cell_type": "code",
   "execution_count": null,
   "id": "61375586-eaec-415f-a670-d3fb3991fff3",
   "metadata": {},
   "outputs": [],
   "source": [
    "\n"
   ]
  },
  {
   "cell_type": "code",
   "execution_count": null,
   "id": "fead36bd-54c5-466a-b421-f7aa8ea0b89a",
   "metadata": {},
   "outputs": [],
   "source": []
  },
  {
   "cell_type": "code",
   "execution_count": null,
   "id": "e30c3673-77ec-458a-88a6-43712aec7826",
   "metadata": {},
   "outputs": [],
   "source": []
  },
  {
   "cell_type": "code",
   "execution_count": 1,
   "id": "e83cddbf-22ba-4f96-9241-542b41078cd7",
   "metadata": {},
   "outputs": [
    {
     "name": "stdout",
     "output_type": "stream",
     "text": [
      "Dog barks , bow wow !!\n",
      "Cat says ,meow meow!!\n"
     ]
    }
   ],
   "source": [
    "# abc - Abstract Base Class\n",
    "\n",
    "# Animals - they make sound , dog make sound , cat make sound\n",
    "\n",
    "from abc import ABC , abstractmethod\n",
    "\n",
    "class Animal(ABC):\n",
    "    @abstractmethod\n",
    "    def aSound(self):\n",
    "        pass    #\n",
    "\n",
    "class Dog(Animal):\n",
    "    def aSound(self):\n",
    "        return \"Dog barks , bow wow !!\"\n",
    "\n",
    "d = Dog()\n",
    "print(d.aSound())\n",
    "\n",
    "\n",
    "# a =Animal()\n",
    "# a.aSouund()\n",
    "\n",
    "\n",
    "class Cat(Animal):\n",
    "    def aSound(self):\n",
    "        return \"Cat says ,meow meow!!\"\n",
    "\n",
    "\n",
    "c = Cat()\n",
    "print(c.aSound())\n",
    "\n"
   ]
  },
  {
   "cell_type": "code",
   "execution_count": 18,
   "id": "eef26320-aacb-4244-b1d9-8118cae29f76",
   "metadata": {},
   "outputs": [
    {
     "name": "stdout",
     "output_type": "stream",
     "text": [
      "Area of Circle: 78.54\n",
      "Area of Rectangle: 24.00\n"
     ]
    }
   ],
   "source": [
    "''' Creat an abstract class Shape with an abstract method area() . Implement \n",
    "subclass Circle and Rectangle to calaculate area . '''\n",
    "\n",
    "from abc import ABC, abstractmethod\n",
    "import math\n",
    "\n",
    "# Abstract class\n",
    "class Shape(ABC):\n",
    "    @abstractmethod\n",
    "    def area(self):\n",
    "        pass\n",
    "\n",
    "# Circle\n",
    "class Circle(Shape):\n",
    "    def __init__(self, radius):\n",
    "        self.radius = radius\n",
    "\n",
    "    def area(self):\n",
    "        return math.pi * (self.radius ** 2)\n",
    "\n",
    "# Rectangle\n",
    "class Rectangle(Shape):\n",
    "    def __init__(self, width, height):\n",
    "        self.width = width\n",
    "        self.height = height\n",
    "\n",
    "    def area(self):\n",
    "        return self.width * self.height\n",
    "\n",
    "# Example \n",
    "circle = Circle(5)\n",
    "rectangle = Rectangle(4, 6)\n",
    "\n",
    "print(f\"Area of Circle: {circle.area():.2f}\")\n",
    "print(f\"Area of Rectangle: {rectangle.area():.2f}\")"
   ]
  },
  {
   "cell_type": "code",
   "execution_count": 25,
   "id": "6df29c46-e773-4a6c-87a4-d3590b651f96",
   "metadata": {},
   "outputs": [
    {
     "name": "stdout",
     "output_type": "stream",
     "text": [
      "Processing credit card payment of $100.50 for Udbhav Simgh using card 4213-1596.\n",
      "Processing UPI payment of $75.25 to udbhav123@upi.\n"
     ]
    }
   ],
   "source": [
    "''' Design an abstract class Payment with an abstract method pay().Create \n",
    "subclasses CreditCard Payment and UPIPayment that define how payments are\n",
    "processed.'''\n",
    "\n",
    "from abc import ABC, abstractmethod\n",
    "\n",
    "# Abstract class\n",
    "class Payment(ABC):\n",
    "    @abstractmethod\n",
    "    def pay(self, amount):\n",
    "        pass\n",
    "\n",
    "# Credit Card Payment\n",
    "class CreditCardPayment(Payment):\n",
    "    def __init__(self, card_number, card_holder):\n",
    "        self.card_number = card_number\n",
    "        self.card_holder = card_holder\n",
    "\n",
    "    def pay(self, amount):\n",
    "        print(f\"Processing credit card payment of ${amount:.2f} for {self.card_holder} using card {self.card_number[5:]}.\")\n",
    "\n",
    "# UPI Payment  \n",
    "class UPIPayment(Payment):\n",
    "    def __init__(self, upi_id):\n",
    "        self.upi_id = upi_id\n",
    "\n",
    "    def pay(self, amount):\n",
    "        print(f\"Processing UPI payment of ${amount} to {self.upi_id}.\")\n",
    "# Example \n",
    "if __name__ == \"__main__\":\n",
    "    credit_card_payment = CreditCardPayment(\"1248-4213-1596\", \"Udbhav Simgh\")\n",
    "    upi_payment = UPIPayment(\"udbhav123@upi\")\n",
    "\n",
    "    credit_card_payment.pay(100.50)\n",
    "    upi_payment.pay(75.25)"
   ]
  },
  {
   "cell_type": "code",
   "execution_count": 33,
   "id": "922163f2-e0b6-4ad5-b835-e03ec169a8ef",
   "metadata": {},
   "outputs": [
    {
     "ename": "IndentationError",
     "evalue": "unindent does not match any outer indentation level (<string>, line 21)",
     "output_type": "error",
     "traceback": [
      "\u001b[1;36m  File \u001b[1;32m<string>:21\u001b[1;36m\u001b[0m\n\u001b[1;33m    def calculate_salary(self):\u001b[0m\n\u001b[1;37m                               ^\u001b[0m\n\u001b[1;31mIndentationError\u001b[0m\u001b[1;31m:\u001b[0m unindent does not match any outer indentation level\n"
     ]
    }
   ],
   "source": [
    "''' Make an abstract class Employee with an abstract method calculate_salary().\n",
    "Implement FullTimeEmployee - days and PartTimeEmployee - hours subclasses with \n",
    "salary calculations. '''\n",
    "\n",
    "from abc import ABC, abstractmethod\n",
    "\n",
    "# Abstract class\n",
    "class Employee(ABC):\n",
    "    @abstractmethod\n",
    "    def calculate_salary(self):\n",
    "        pass\n",
    "\n",
    "# Full-Time Employee\n",
    "class FullTimeEmployee():\n",
    "    def __init__(self,name,per_dayPay, working_days):\n",
    "        self.name = name\n",
    "        self.per_dayPay = per_dayPay\n",
    "        self.working_days = working_days\n",
    "        self.salary = self.per_dayPay * self.working_days\n",
    "\n",
    "     def calculate_salary(self):\n",
    "         return self.salary\n",
    "\n",
    "# Part-Time Employee \n",
    "class PartTimeEmployee(Employee):\n",
    "    def __init__(self, name, hourly_pay, Working_hours):\n",
    "        self.name = name\n",
    "        self.hourly_pay = hourly_rpay\n",
    "        self.Working_hours = Working_hours\n",
    "        self.salary = self.hourly_pay * self.Working_hours  \n",
    "\n",
    "    def calculate_salary(self):\n",
    "        return self.salary\n",
    "\n",
    "if __name__ == \"__main__\":\n",
    "    full_time_employee = FullTimeEmployee(\"Alice\", 100, 20)  # Daily rate of $100, worked 20 days\n",
    "    part_time_employee = PartTimeEmployee(\"Bob\", 15, 80)     # Hourly rate of $15, worked 80 hours\n",
    "\n",
    "    print(f\"{full_time_employee.name}'s Salary: ${full_time_employee.calculate_salary():.2f}\")\n",
    "    print(f\"{part_time_employee.name}'s Salary: ${part_time_employee.calculate_salary():.2f}\")\n",
    "\n",
    "    "
   ]
  },
  {
   "cell_type": "code",
   "execution_count": 34,
   "id": "2332cd84-83bf-400f-8830-cf2addcbbe84",
   "metadata": {},
   "outputs": [
    {
     "name": "stdout",
     "output_type": "stream",
     "text": [
      "Alice's Salary: $2000.00\n",
      "Bob's Salary: $1200.00\n"
     ]
    }
   ],
   "source": [
    "from abc import ABC, abstractmethod\n",
    "\n",
    "# Abstract class\n",
    "class Employee(ABC):\n",
    "    @abstractmethod\n",
    "    def calculate_salary(self):\n",
    "        pass\n",
    "\n",
    "# Subclass for Full-Time Employee\n",
    "class FullTimeEmployee(Employee):\n",
    "    def __init__(self, name, daily_rate, days_worked):\n",
    "        self.name = name\n",
    "        self.daily_rate = daily_rate\n",
    "        self.days_worked = days_worked\n",
    "        self.salary = self.daily_rate * self.days_worked  # Salary calculation\n",
    "\n",
    "    def calculate_salary(self):\n",
    "        return self.salary\n",
    "\n",
    "# Subclass for Part-Time Employee\n",
    "class PartTimeEmployee(Employee):\n",
    "    def __init__(self, name, hourly_rate, hours_worked):\n",
    "        self.name = name\n",
    "        self.hourly_rate = hourly_rate\n",
    "        self.hours_worked = hours_worked\n",
    "        self.salary = self.hourly_rate * self.hours_worked  # Salary calculation\n",
    "\n",
    "    def calculate_salary(self):\n",
    "        return self.salary\n",
    "\n",
    "# Example usage\n",
    "if __name__ == \"__main__\":\n",
    "    full_time_employee = FullTimeEmployee(\"Alice\", 100, 20)  # Daily rate of $100, worked 20 days\n",
    "    part_time_employee = PartTimeEmployee(\"Bob\", 15, 80)     # Hourly rate of $15, worked 80 hours\n",
    "\n",
    "    print(f\"{full_time_employee.name}'s Salary: ${full_time_employee.calculate_salary():.2f}\")\n",
    "    print(f\"{part_time_employee.name}'s Salary: ${part_time_employee.calculate_salary():.2f}\")"
   ]
  },
  {
   "cell_type": "code",
   "execution_count": null,
   "id": "292d3eac-0524-461d-974b-de6c5783d845",
   "metadata": {},
   "outputs": [],
   "source": [
    "\n",
    "\n"
   ]
  }
 ],
 "metadata": {
  "kernelspec": {
   "display_name": "Python 3 (ipykernel)",
   "language": "python",
   "name": "python3"
  },
  "language_info": {
   "codemirror_mode": {
    "name": "ipython",
    "version": 3
   },
   "file_extension": ".py",
   "mimetype": "text/x-python",
   "name": "python",
   "nbconvert_exporter": "python",
   "pygments_lexer": "ipython3",
   "version": "3.12.7"
  }
 },
 "nbformat": 4,
 "nbformat_minor": 5
}
