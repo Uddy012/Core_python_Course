{
 "cells": [
  {
   "cell_type": "markdown",
   "id": "b16f096d-9d41-4f56-922d-e8e3c253fdbc",
   "metadata": {},
   "source": [
    "Wellcome ! to the Python Programming ."
   ]
  },
  {
   "cell_type": "code",
   "execution_count": 2,
   "id": "30370c92-cb44-4404-a14a-8b9bd87c0b0d",
   "metadata": {},
   "outputs": [
    {
     "name": "stdout",
     "output_type": "stream",
     "text": [
      "Hello\n"
     ]
    }
   ],
   "source": [
    "print('Hello')"
   ]
  },
  {
   "cell_type": "code",
   "execution_count": 4,
   "id": "cdf9049e-c444-4bab-a6a2-c398877e69be",
   "metadata": {},
   "outputs": [
    {
     "data": {
      "text/plain": [
       "2860"
      ]
     },
     "execution_count": 4,
     "metadata": {},
     "output_type": "execute_result"
    }
   ],
   "source": [
    "52*55"
   ]
  },
  {
   "cell_type": "code",
   "execution_count": 3,
   "id": "0e2c86f4-c04b-4cd2-8427-bf8e30414017",
   "metadata": {},
   "outputs": [
    {
     "name": "stdout",
     "output_type": "stream",
     "text": [
      "hello my name is udbhav\n"
     ]
    },
    {
     "name": "stdin",
     "output_type": "stream",
     "text": [
      "Enter your name:  Udbhav Singh\n",
      "Enter your age:  21\n"
     ]
    },
    {
     "name": "stdout",
     "output_type": "stream",
     "text": [
      "Hello,My name isUdbhav Singh and my age is 21\n"
     ]
    }
   ],
   "source": [
    "print(\"hello my name is udbhav\")\n",
    "name=input(\"Enter your name: \")\n",
    "age=input(f\"Enter your age: \")\n",
    "age=int(age)\n",
    "print (f\"Hello,My name is{name} and my age is {age}\")"
   ]
  },
  {
   "cell_type": "raw",
   "id": "2ea0cbbd-df97-445a-85fb-dcbab950717a",
   "metadata": {},
   "source": [
    "Data Type - The type of Data\n",
    "\n",
    "1) Numerical - int(1,9) , float (decimal) , complex (real + image)\n",
    "2) Text - char (characters - (a-z)&(A-Z)) , String\n",
    "3) Boolean - True , False\n",
    "4) Special - byte , bytearray\n",
    "------------------------------Data Structure Concept---------------------\n",
    "5) Set - set , Frozenset\n",
    "6) Mapping - Dictionary\n",
    "7) Sequence - List , Tuple\n",
    "8) Byte"
   ]
  },
  {
   "cell_type": "code",
   "execution_count": 21,
   "id": "a63f9c74-e819-4bf2-9cbb-4f19a61ad0b8",
   "metadata": {},
   "outputs": [
    {
     "name": "stdout",
     "output_type": "stream",
     "text": [
      "<class 'int'>\n",
      "<class 'float'>\n",
      "<class 'complex'>\n",
      "<class 'str'>\n",
      "<class 'bool'>\n",
      "<class 'NoneType'>\n",
      "<class 'list'>\n",
      "<class 'tuple'>\n",
      "b'Hello'\n",
      "<class 'bytes'>\n",
      "<class 'list'>\n",
      "<class 'dict'>\n",
      "the capacity of int is 28bytes\n",
      "the capacity of int is 432bytes\n"
     ]
    }
   ],
   "source": [
    "a = 100\n",
    "print(type(a))    # Integer\n",
    "\n",
    "pi = 3.147\n",
    "print(type(pi))    # Float\n",
    "\n",
    "comp = 4+2j\n",
    "print(type(comp))   # Complex\n",
    "\n",
    "str = \"Hello !\"\n",
    "print(type(str))     # String\n",
    "\n",
    "x = 1\n",
    "x = (bool(1))   # Boolean\n",
    "print(type(x))\n",
    "\n",
    "b = None\n",
    "print(type(b))     # None\n",
    "\n",
    "mylist = [\"Apple\",\"Mango\", \"Watermelon\"]\n",
    "print(type(mylist))    # Sequence - List\n",
    "\n",
    "mytuple = (\"Apple\",\"Mango\", \"Watermelon\")\n",
    "print(type(mytuple))    # Sequence - Tuple\n",
    "\n",
    "byte_string = b\"Hello\"\n",
    "print(byte_string)   # byte_string\n",
    "\n",
    "byte_string = b\"Hello\"\n",
    "print(type(byte_string))   # byte\n",
    "\n",
    "myset = [\"5\",\"4\",\"2\"]\n",
    "print(type(myset))       # Set\n",
    "\n",
    "thisdict = {\n",
    "    \"brand\" : \"Ford\" ,\n",
    "    \"model\" : \"Mustang\" ,      # Mapping - Dictionary     \n",
    "    \"year\" : \"1964\" ,\n",
    "}\n",
    "print(type(thisdict))\n",
    "\n",
    "# Memory Allocation\n",
    "import sys\n",
    "\n",
    "print(f\"the capacity of int is {sys.getsizeof(a)}bytes\") # 28 bytes\n",
    "print(f\"the capacity of int is {sys.getsizeof(int)}bytes\")  # byte & bytearray\n",
    "\n",
    "\n"
   ]
  },
  {
   "cell_type": "code",
   "execution_count": 29,
   "id": "37f65c37-24e6-4e59-805b-f653d6006379",
   "metadata": {},
   "outputs": [
    {
     "name": "stdout",
     "output_type": "stream",
     "text": [
      "60\n",
      "22.5\n",
      "(7+4j)\n",
      "Aditya\n",
      "<class 'str'>\n"
     ]
    }
   ],
   "source": [
    "# Operations on data types : + , - , * , / , % \n",
    "\n",
    "a = 20\n",
    "b = 40\n",
    "print (a+b)\n",
    "\n",
    "# Print(20 + \"Aditya\")\n",
    "print(20 + 2.5)\n",
    "print(5+2+4j)\n",
    "print('A' + \"ditya\")\n",
    "\n",
    "\n",
    "# Print(\"Thanks\" - \"T\")\n",
    "v = \"Deepak\" * True\n",
    "print(type(v))\n",
    "\n",
    "# Print(40/\"Python\")   # 1 - True , 0 - False\n",
    "\n"
   ]
  },
  {
   "cell_type": "code",
   "execution_count": 31,
   "id": "b3336304-ecf4-4657-b4a0-9dced1ff7a4a",
   "metadata": {},
   "outputs": [
    {
     "name": "stdout",
     "output_type": "stream",
     "text": [
      "102.47\n",
      "<class 'float'>\n"
     ]
    }
   ],
   "source": [
    "# TypeCasting (means Conversion) :\n",
    "'''Type Casting is the method to convert the Python variable datatype into a\n",
    "  certain  data type in order to perform the required operation by users. In\n",
    "  this article, we will see the various techniques for typecasting. \n",
    "\n",
    "There can be two types of Type Casting in Python:\n",
    "\n",
    " 1) Python Implicit Type Conversion\n",
    " 2)Python Explicit Type Conversion  '''\n",
    "\n",
    "# Implicity (means automatic) : \n",
    "\"\"\"In this, method, Python converts the datatype into another datatype \n",
    "   automatically.Users don’t have to involve in this process.\"\"\"\n",
    "c = 100 + 2.47\n",
    "print(c)\n",
    "print(type(c))\n",
    "\n",
    "\n",
    "# Explicit :\n",
    "'''In this method, Python needs user involvement to convert the variable data\n",
    "    type into the required data type. '''\n",
    "pi = 3.147\n",
    "res = int()   \n",
    "\n"
   ]
  },
  {
   "cell_type": "code",
   "execution_count": 21,
   "id": "dd13c2b2-dd19-4d68-8424-a47f6ff6843e",
   "metadata": {},
   "outputs": [
    {
     "name": "stdout",
     "output_type": "stream",
     "text": [
      "11\n",
      "-1\n",
      "30\n",
      "0.8333333333333334\n",
      "5\n",
      "0\n",
      "51\n"
     ]
    }
   ],
   "source": [
    "#Arithmatic Operator :\n",
    "''' Arithmetic operators are used with \n",
    "    numeric values to perform common mathematical operations '''\n",
    "a=5\n",
    "b=6\n",
    "print(a+b)\n",
    "print(a-b)\n",
    "print(a*b)\n",
    "print(a/b)\n",
    "print(a%b)\n",
    "\n",
    "# **  ( Exponentiation ) [ x ** y ]\t\n",
    "# //  ( Floor division ) [ x // y ]\n",
    "\n",
    "print(a // b)\n",
    "print(154 // 3)"
   ]
  },
  {
   "cell_type": "code",
   "execution_count": 19,
   "id": "447fb0db-4914-45e3-95dd-4e7a06e6adee",
   "metadata": {},
   "outputs": [
    {
     "name": "stdout",
     "output_type": "stream",
     "text": [
      "1.0\n",
      "0\n",
      "225\n",
      "30\n",
      "0\n"
     ]
    }
   ],
   "source": [
    "PI = 15\n",
    "print(PI/a)     \n",
    "print(PI%a)\n",
    "print(PI*a)\n",
    "print(PI+a)\n",
    "print(PI-a)"
   ]
  },
  {
   "cell_type": "code",
   "execution_count": 26,
   "id": "846f37c5-d11d-4e4e-a970-54ff597113d4",
   "metadata": {},
   "outputs": [
    {
     "name": "stdout",
     "output_type": "stream",
     "text": [
      "False\n",
      "True\n",
      "False\n",
      "True\n",
      "False\n"
     ]
    }
   ],
   "source": [
    "# Comparison Operator : < , > , <= , => , == ,!=\n",
    "a = 6\n",
    "b = 3\n",
    "\n",
    "# print(a = b)\n",
    "print(a < b)\n",
    "print(a > b)\n",
    "print(a <= b)\n",
    "print(a >= b)\n",
    "print(a == 120)\n"
   ]
  },
  {
   "cell_type": "code",
   "execution_count": 28,
   "id": "c20975f0-2302-4a55-8383-18eb02bc700d",
   "metadata": {},
   "outputs": [
    {
     "name": "stdout",
     "output_type": "stream",
     "text": [
      "False\n",
      "False\n",
      "True\n",
      "15\n",
      "0\n",
      "False\n",
      "True\n",
      "['Princy', 'Juvera', 'Sakshi']\n",
      "[1, 2, 3]\n",
      "True\n"
     ]
    }
   ],
   "source": [
    "#logical operator : and,or,not\n",
    "val1  = False\n",
    "val2 = False   # id and password for login page\n",
    " \n",
    "print(val1 and val2) # Returns True if both statements are true\n",
    "print(val1 or val2) # Returns True if one of the statements is true\n",
    "print(not False ) # Reverse the result, returns False if the result is true\n",
    "\n",
    "#vAssignment operator : \n",
    "a = 10\n",
    "b = True\n",
    "name = \"Python\"\n",
    "# Reverse the result, returns False if the result is true\n",
    "# c = 5\n",
    "# res = a + c\n",
    "# print(res)\n",
    "\n",
    "a += 5\n",
    "print(a)\n",
    "\n",
    "b -= 1\n",
    "print(b)\n",
    "\n",
    "# / , // - augmented\n",
    "# * , **\n",
    "\n",
    "# Membership Operator : in , not in\n",
    "\n",
    "# in \n",
    "'''Membership operators are used to test if a sequence is \n",
    "presented in an object: '''\n",
    "''' in Returns True if a sequence with the specified value is\n",
    "   present in the object\tx in y'''\n",
    "# not in\n",
    "'''' not in\tReturns True if a sequence with the specified value \n",
    "     is not present in the object\tx not in y'''\n",
    "\n",
    "\n",
    "name = \"Udbhav Singh\"\n",
    "print( 's' in name)\n",
    "print('Sakshi' not in name)\n",
    "\n",
    "# Identity Operator : \n",
    "''' Identity operators are used to compare the objects, not if they are\n",
    " equal, but if they are actually the same object, with the same memory location '''\n",
    "\n",
    "# is \tReturns True if both variables are the same object\t\t\n",
    "# is not\tReturns True if both variables are not the same object\n",
    "\n",
    "lst = ['Princy','Juvera','Sakshi']\n",
    "name = [1,2,3]\n",
    "print(lst)\n",
    "print(name)\n",
    "print(name is not lst)\n"
   ]
  },
  {
   "cell_type": "code",
   "execution_count": 3,
   "id": "72240013-fdd0-42c7-9943-0aa3b93d459e",
   "metadata": {},
   "outputs": [
    {
     "name": "stdout",
     "output_type": "stream",
     "text": [
      "20\n"
     ]
    },
    {
     "name": "stdin",
     "output_type": "stream",
     "text": [
      "Enter your age : 21\n"
     ]
    },
    {
     "name": "stdout",
     "output_type": "stream",
     "text": [
      "<class 'bool'>\n"
     ]
    },
    {
     "name": "stdin",
     "output_type": "stream",
     "text": [
      "enter your age 21\n"
     ]
    },
    {
     "name": "stdout",
     "output_type": "stream",
     "text": [
      "You are eligible for voting!!!\n"
     ]
    },
    {
     "name": "stdin",
     "output_type": "stream",
     "text": [
      "Enter your number!!! 24\n"
     ]
    },
    {
     "name": "stdout",
     "output_type": "stream",
     "text": [
      "Your number is positive!!!\n"
     ]
    }
   ],
   "source": [
    "# Statement : command \n",
    "# 1) Assignment statement : \n",
    "age = 20\n",
    "name = 'Python'\n",
    "# 2)  print statement : output\n",
    "print(age)\n",
    "\n",
    "# 3) Expression statement : \n",
    "a = 2\n",
    "b = 6\n",
    "result = a + b\n",
    "\n",
    "# 4) Input statement : \n",
    "\n",
    "# string\n",
    "# name = input(\"Enter your name : \")\n",
    "# print(type(name))\n",
    "\n",
    "age = bool(input(\"Enter your age :\"))\n",
    "print(type(age))\n",
    "\n",
    "age = int(input(\"enter your age\"))\n",
    "if age >= 18 :\n",
    "   print(\"You are eligible for voting!!!\")\n",
    "\n",
    "else: \n",
    "   print(\"You are NOT eligible for voting!!!\")\n",
    "\n",
    "\n",
    "# elif : multiple option\n",
    "# Number guessing game\n",
    "\n",
    "num = int(input(\"Enter your number!!!\"))\n",
    "if num == 0 :\n",
    "    print(\"Your number is zero!!\")\n",
    "elif num < 0 :\n",
    "     print(\"Your number is negativee!!!\")\n",
    "elif num > 0 :\n",
    "     print(\"Your number is positive!!!\")\n",
    "else : \n",
    "    print(\"Pls enter proper number!!!\")\n",
    "\n",
    "'''\n",
    "multiline comment\n",
    "\n",
    "'''\n"
   ]
  },
  {
   "cell_type": "code",
   "execution_count": 12,
   "id": "b34f5097-cbfd-4d4d-b76c-b746513c627a",
   "metadata": {},
   "outputs": [
    {
     "name": "stdout",
     "output_type": "stream",
     "text": [
      "1\n",
      "2\n",
      "3\n",
      "4\n",
      "5\n",
      "6\n",
      "7\n",
      "8\n",
      "9\n",
      "10\n",
      "11\n",
      "12\n",
      "13\n",
      "14\n",
      "15\n",
      "16\n",
      "17\n",
      "18\n",
      "19\n",
      "20\n",
      "21\n",
      "22\n",
      "23\n",
      "24\n",
      "25\n",
      "26\n",
      "27\n",
      "28\n",
      "29\n",
      "30\n",
      "31\n",
      "32\n",
      "33\n",
      "34\n",
      "35\n",
      "36\n",
      "37\n",
      "38\n",
      "39\n",
      "40\n",
      "41\n",
      "42\n",
      "43\n",
      "44\n",
      "45\n",
      "46\n",
      "47\n",
      "48\n",
      "49\n",
      "50\n",
      "5 x 1 = 5\n",
      "5 x 2 = 10\n",
      "5 x 3 = 15\n",
      "5 x 4 = 20\n",
      "5 x 5 = 25\n",
      "5 x 6 = 30\n",
      "5 x 7 = 35\n",
      "5 x 8 = 40\n",
      "5 x 9 = 45\n",
      "5 x 10 = 50\n",
      "2\n",
      "4\n",
      "6\n",
      "8\n",
      "10\n",
      "12\n",
      "14\n",
      "16\n",
      "18\n",
      "20\n",
      "[2, 4, 6, 8, 10]\n"
     ]
    }
   ],
   "source": [
    "# Loop Statement : repeatitve , repeatation of a pattern\n",
    "# For Loop - limit\n",
    "# range(starting no. , ending no. )\n",
    "\n",
    "# print(1)\n",
    "# print(2)\n",
    "# print(5)\n",
    "\n",
    "for item in range (1,51) :\n",
    "  print(item)\n",
    "\n",
    "\n",
    "# Write a multiplication table of 5 ?\n",
    "\n",
    "num = 5\n",
    "\n",
    "for i in range(1, 11):\n",
    "   print(num, 'x', i, '=', num*i)\n",
    "\n",
    "\n",
    "# Wap to print even number ?\n",
    "for i in range(1,11) :\n",
    "    print(2*i)\n",
    "# second way\n",
    "\n",
    "x = 2\n",
    "n = 5\n",
    "multiples = [x * i for i in range(1, n+1)]\n",
    "print(multiples)\n",
    "\n",
    "\n",
    "\n"
   ]
  },
  {
   "cell_type": "code",
   "execution_count": 27,
   "id": "8855e2c9-df13-4243-b678-6b7a06e411c1",
   "metadata": {},
   "outputs": [
    {
     "name": "stdout",
     "output_type": "stream",
     "text": [
      "The sum of all numbers from 1 to 100 is 2500\n",
      "1\n",
      "4\n",
      "9\n",
      "16\n",
      "25\n",
      "36\n",
      "49\n",
      "64\n",
      "81\n",
      "100\n",
      "121\n",
      "144\n",
      "169\n",
      "196\n",
      "225\n",
      "256\n",
      "289\n",
      "324\n",
      "361\n",
      "400\n",
      "U\n",
      "d\n",
      "b\n",
      "h\n",
      "a\n",
      "v\n",
      "5 x 1 = 5\n",
      "5 x 2 = 10\n",
      "5 x 3 = 15\n",
      "5 x 4 = 20\n",
      "5 x 5 = 25\n",
      "5 x 6 = 30\n",
      "5 x 7 = 35\n",
      "5 x 8 = 40\n",
      "5 x 9 = 45\n",
      "5 x 10 = 50\n",
      "1\n",
      "2\n",
      "3\n",
      "4\n",
      "5\n",
      "6\n",
      "7\n",
      "8\n",
      "9\n",
      "10\n",
      "11\n",
      "12\n",
      "13\n",
      "14\n",
      "15\n",
      "16\n",
      "17\n",
      "18\n",
      "19\n",
      "20\n"
     ]
    }
   ],
   "source": [
    "# sum all the numbers from 1 to 100 ?\n",
    " \n",
    "sum = 0\n",
    "for i in range(1,101,2):\n",
    "    sum += i\n",
    "\n",
    "print(f\"The sum of all numbers from 1 to 100 is {sum}\")\n",
    "\n",
    "\n",
    "# Wap to print squares from 1 to 20 ? \n",
    "\n",
    "for i in range(1, 21):\n",
    "     print(i ** 2)\n",
    "\n",
    "\n",
    "# Wap to print your name using for loop ?\n",
    "name = 'Udbhav'\n",
    "for i in name :\n",
    "    print(i)\n",
    "\n",
    "\n",
    "\n",
    "# While Loop - entry control Loop \n",
    "\n",
    "# while condition : \n",
    "# Logic / pattern\n",
    "# Increment/ Decrement\n",
    "\n",
    "# print the multiplication table of 5 using a while loop\n",
    "\n",
    "number = 5\n",
    "i = 1\n",
    "\n",
    "while i <= 10:\n",
    "    result = number * i\n",
    "    print(f\"{number} x {i} = {result}\")\n",
    "    i += 1\n",
    "\n",
    "# Wap to print squares from 1 to 20 ?    \n",
    "\n",
    "num = 1\n",
    "while num <= 20:\n",
    "   square = num**2\n",
    "   print(num)\n",
    "   num += 1\n",
    "\n",
    "# print your name using a while loop\n",
    "\n",
    "#   count += 1 \n",
    "\n"
   ]
  },
  {
   "cell_type": "code",
   "execution_count": 29,
   "id": "2d65cfef-8412-4dcb-aea6-d89341ce6f3c",
   "metadata": {},
   "outputs": [
    {
     "name": "stdout",
     "output_type": "stream",
     "text": [
      "10\n",
      "9\n",
      "8\n",
      "7\n",
      "6\n",
      "5\n",
      "4\n",
      "3\n",
      "2\n",
      "1\n",
      "10\n",
      "9\n",
      "8\n",
      "7\n",
      "6\n",
      "5\n",
      "4\n",
      "3\n",
      "2\n",
      "1\n",
      "0\n",
      "1\n",
      "2\n",
      "4\n",
      "5\n",
      "6\n",
      "7\n",
      "8\n"
     ]
    }
   ],
   "source": [
    "# Wap to print reverse number 10 to 1 using while loop\n",
    "\n",
    "number = 10  \n",
    "\n",
    "while number >= 1:  \n",
    "    print(number)  \n",
    "    number -= 1 \n",
    "#-----------------------------------------------------------------------\n",
    "# Wap to print reverse number 10 to 1 using for loop\n",
    "for i in range(10,0,-1):\n",
    "  print(i)\n",
    "\n",
    "'''for i in range(1,10):\n",
    "    if i==5 or i == 8:\n",
    "      continue\n",
    "    print(i) '''\n",
    "for i in range(9):\n",
    "  if i == 3:\n",
    "    continue\n",
    "  print(i)"
   ]
  },
  {
   "cell_type": "code",
   "execution_count": 28,
   "id": "e2373431-65db-4013-a2eb-61210ed02bd8",
   "metadata": {},
   "outputs": [
    {
     "name": "stdout",
     "output_type": "stream",
     "text": [
      "name: udbhav\n",
      "course: BCA\n",
      "Sum: 15\n",
      "Difference: 5\n",
      "25.0\n",
      "290\n"
     ]
    }
   ],
   "source": [
    "# define a method which prints your name , course you are pursuing\n",
    "def print_student_info(name, course):\n",
    "    print(\"name:\", name)\n",
    "    print(\"course:\", course)\n",
    "\n",
    "\n",
    "print_student_info(\"udbhav\", \"BCA\")\n",
    "\n",
    "\n",
    "# define a method to perform aad , subtract\n",
    "\n",
    "def add_and_subtract(a, b):\n",
    "    sum_result = a + b\n",
    "    difference_result = a - b\n",
    "    return sum_result, difference_result\n",
    "\n",
    "\n",
    "num1 = 10\n",
    "num2 = 5\n",
    "sum_value, difference_value = add_and_subtract(num1, num2)\n",
    "\n",
    "print(\"Sum:\", sum_value)\n",
    "print(\"Difference:\", difference_value)\n",
    "\n",
    "# camelCase\n",
    "# snake case\n",
    "\n",
    "# pre-define\n",
    "\n",
    "import math\n",
    "print(math.sqrt(625))\n",
    "print(math.floor(290.89))\n",
    "\n"
   ]
  },
  {
   "cell_type": "code",
   "execution_count": 31,
   "id": "dd2f3ab8-4b38-484b-ae30-15b7d32f011a",
   "metadata": {},
   "outputs": [
    {
     "name": "stdin",
     "output_type": "stream",
     "text": [
      "Enter a number:  -52\n"
     ]
    },
    {
     "name": "stdout",
     "output_type": "stream",
     "text": [
      "Negative number\n",
      "the sum of all number : 5050\n"
     ]
    },
    {
     "name": "stdin",
     "output_type": "stream",
     "text": [
      "Enter the number 52\n",
      "Enter the number 45\n",
      "Enter the number 0\n"
     ]
    },
    {
     "name": "stdout",
     "output_type": "stream",
     "text": [
      "97\n",
      "20\n"
     ]
    }
   ],
   "source": [
    "# 1. Write a Python program that takes an integer input and prints whether it is positive, negative, or zero using an if-else statement.\n",
    "num = float(input(\"Enter a number: \"))\n",
    "if num > 0:\n",
    "   print(\"Positive number\")\n",
    "elif num == 0:\n",
    "   print(\"Zero\")\n",
    "else:\n",
    "   print(\"Negative number\")\n",
    "\n",
    "# 2. Write a Python program using a for loop to print the sum of all numbers from 1 to 100.\n",
    "   \n",
    "total_sum = 0\n",
    "for number in range(1,101):\n",
    "    total_sum += number\n",
    "print(\"the sum of all number :\",total_sum) \n",
    "\n",
    "\n",
    "# 3. Write a Python program that takes numbers as input from the user. If the user enters 0, the program should stop taking inputs and print the sum of all entered numbers.\n",
    "sum = 0\n",
    "num=int(input(\"Enter the number\"))\n",
    "while(num!=0):\n",
    "    sum += num\n",
    "    num = int(input(\"Enter the number\"))\n",
    "print(sum)    \n",
    "\n",
    "# 4. Write a Python program that prints numbers from 1 to 20, but skips multiples of 3 using the continue\n",
    "\n",
    "for number in range(1,21):\n",
    " if number %3==0:\n",
    "        continue\n",
    "print(number)\n",
    "    \n",
    "    \n",
    "         "
   ]
  },
  {
   "cell_type": "code",
   "execution_count": 42,
   "id": "37570ac5-acda-4eeb-a269-f27ca272541b",
   "metadata": {},
   "outputs": [
    {
     "name": "stdout",
     "output_type": "stream",
     "text": [
      "hello my name Is Uddbhav\n",
      "a\n",
      " \n",
      "hello my name\n",
      "name Is Uddbhav\n",
      "name Is Uddbha\n",
      "Is Uddbhav\n",
      "Is Uddbhav\n",
      "hlom \n",
      "vahbddU sI eman ym olleh\n",
      "hello my name Is Uddbhavhello my name Is Uddbhav\n"
     ]
    }
   ],
   "source": [
    "para = 'hello my name Is Uddbhav'\n",
    "print(para)\n",
    "\n",
    "#accesing element/char from str - indexing\n",
    "print(para[10])\n",
    "print(para[-11])\n",
    "print(para[ :13])\n",
    "print(para[9: ])\n",
    "print(para[9:-1])\n",
    "print(para[-10: ])\n",
    "print(para[-10: ])\n",
    "# for range with steps str[startInd : endIndex : steps]\n",
    "print(para[0:10:2])\n",
    "# Reverse string\n",
    "print(para[::-1])\n",
    "\n",
    "\n",
    "# Operator\n",
    "print(para+para)  # concatenation\n",
    "#print(para-1)\n",
    "#print(para * 2)   # repeatition\n",
    "#print(para/2)\n",
    "\n"
   ]
  },
  {
   "cell_type": "code",
   "execution_count": 49,
   "id": "43cec3fd-aab9-4728-b2e1-8eb054e0ae4f",
   "metadata": {},
   "outputs": [
    {
     "name": "stdout",
     "output_type": "stream",
     "text": [
      "UdBhaV SIngH\n",
      "Udbhav singh\n",
      "Udbhav Singh\n",
      "UDBHAV SINGH\n",
      "udbhav singh\n",
      "----------\n",
      "False\n",
      "False\n",
      "True\n",
      "True\n"
     ]
    }
   ],
   "source": [
    "# Methods -\n",
    "\n",
    "name = 'uDbHAv siNGh'\n",
    "\n",
    "# case\n",
    "print(name.swapcase())\n",
    "print(name.capitalize())\n",
    "print(name.title())\n",
    "print(name.upper())\n",
    "print(name.lower())\n",
    "\n",
    "print('----------')\n",
    "# To check type of content \n",
    "para1 = \"Python programming\"\n",
    "print(para1.isalpha())\n",
    "print(para.isalnum())\n",
    "print(\"123456789\".isdigit())\n",
    "print(\"      \".isspace())\n",
    "\n"
   ]
  },
  {
   "cell_type": "code",
   "execution_count": 15,
   "id": "4e67bf1c-f57e-4b35-8930-c0b1febbb9fc",
   "metadata": {},
   "outputs": [
    {
     "name": "stdout",
     "output_type": "stream",
     "text": [
      "17\n",
      "17\n",
      "6\n",
      "Hello my name is Udbhav\n",
      "     Hello my name is       Nilesh   \n",
      "Hello my name is       Nilesh\n",
      "     Hello my name is       Nilesh\n",
      "Hello my name is       Nilesh   \n",
      "True\n",
      "False\n",
      "['Hello', 'welcom', 'to', 'the', 'python', 'session', ',', 'hop', 'you', 'you', 'are', 'enjoying']\n",
      "['Hello welcom to the python session ', ' hop you you are enjoying']\n",
      "Harshit HelloUdbhav HelloShivam\n"
     ]
    }
   ],
   "source": [
    "# Find :\n",
    "para = \"Hello my name is python\"\n",
    "\n",
    "print(para.find('python'))  # 1st occurance\n",
    "print(para.rfind('python'))   # Last occurence\n",
    "print(para.index('my'))\n",
    "print(para.replace('python' , 'Udbhav'))\n",
    "\n",
    "\n",
    "# Trimming :\n",
    "para = \"     Hello my name is       Nilesh   \"\n",
    "print(para)\n",
    "print(para.strip())\n",
    "print(para.rstrip())\n",
    "print(para.lstrip())\n",
    "\n",
    "# Start and end :\n",
    "para1 = \"The Hello i am robot\"\n",
    "print(para1.startswith('The'))\n",
    "print(para1.endswith('Saurabh'))\n",
    "\n",
    "\n",
    "# Splitting :\n",
    "para = 'Hello welcom to the python session , hop you you are enjoying'\n",
    "splitted = para.split() # convert string into list\n",
    "print(splitted)\n",
    "\n",
    "rsplit = para.rsplit(',' , 1)  # sep - ,\n",
    "print(rsplit)\n",
    "\n",
    "# itrable - join(list[]) : str.join()list\n",
    "# [1,2,3]\n",
    "names = ['Harshit' ,  'Udbhav' , 'Shivam']\n",
    "val = \" Hello\".join(names)\n",
    "print(val)\n"
   ]
  },
  {
   "cell_type": "code",
   "execution_count": 30,
   "id": "e510dff3-5689-4f0c-be9a-e9ef8a3a8338",
   "metadata": {},
   "outputs": [
    {
     "name": "stdin",
     "output_type": "stream",
     "text": [
      "Enter some thing udbhav\n"
     ]
    },
    {
     "name": "stdout",
     "output_type": "stream",
     "text": [
      "udbhav\n",
      "dbhav\n"
     ]
    },
    {
     "name": "stdin",
     "output_type": "stream",
     "text": [
      "Enter the sentence hello who are you\n"
     ]
    },
    {
     "name": "stdout",
     "output_type": "stream",
     "text": [
      "The number of vowels in the string is: 7\n"
     ]
    }
   ],
   "source": [
    "# Reverse a string :\n",
    "hello\n",
    "\n",
    "user_input = (input(\"Enter some thing\"))\n",
    "words = user_input.split()\n",
    "\n",
    "reversed_words = words[::-1]\n",
    "reversed_string = ' '.join(reversed_words)\n",
    "print(reversed_string)\n",
    "\n",
    "#\n",
    "# Code and decode words for security :\n",
    "#userPassword = (input(\"Enter your password\"))\n",
    "#userPassword = ('password:','Udbhav')\n",
    "#encoded_password = [:,'Abng'.join(userPassword]\n",
    "#print(encoded_password)\n",
    "def codeAnd_decode(word):\n",
    "    code = word[1:]\n",
    "    #code = word[1: ] + word[0]\n",
    "  #  encode = 'qwerty' + code + '123hgfuyf'\n",
    "   #print(encode)\n",
    "    print(code)\n",
    "\n",
    "codeAnd_decode('Udbhav')\n",
    "\n",
    "\n",
    "# Count of vowels in a string\n",
    "\n",
    "def count_vowels(inputString):\n",
    "    vowels = \"aeiouAEIOU\"\n",
    "    count = 0\n",
    "    \n",
    "    # Iterate \n",
    "    for char in inputString:\n",
    "        if char in vowels:\n",
    "            count += 1\n",
    "            \n",
    "    return count\n",
    "\n",
    "inputString = (input(\"Enter the sentence\"))\n",
    "vowel_count = count_vowels(inputString)\n",
    "print(f\"The number of vowels in the string is: {vowel_count}\")\n",
    "\n"
   ]
  },
  {
   "cell_type": "code",
   "execution_count": null,
   "id": "6bf4f474-124c-4887-8294-d3dce52c1f4a",
   "metadata": {},
   "outputs": [],
   "source": []
  },
  {
   "cell_type": "code",
   "execution_count": 5,
   "id": "f895a790-f1db-4a41-9e0b-d4ca74a96b0d",
   "metadata": {},
   "outputs": [
    {
     "name": "stdout",
     "output_type": "stream",
     "text": [
      "H\n",
      "e\n",
      "l\n",
      "l\n",
      "o\n"
     ]
    }
   ],
   "source": [
    "def count_vowels(input_string):\n",
    "    vowels = \"aeiouAEIOU\"\n",
    "    count = 0\n",
    "    \n",
    "    # Iterate \n",
    "    for char in input_string:\n",
    "        if char in vowels:\n",
    "            count += 1\n",
    "            \n",
    "    return count\n",
    "\n",
    "input_string = char(input(\"Enter the sentence\"))\n",
    "vowel_count = count_vowels(input_string)\n",
    "print(f\"The number of vowels in the string is: {vowel_count}\")\n"
   ]
  },
  {
   "cell_type": "code",
   "execution_count": 12,
   "id": "22e1102c-596c-4356-80f6-9b6e103ed34c",
   "metadata": {},
   "outputs": [
    {
     "name": "stdout",
     "output_type": "stream",
     "text": [
      "[1, 2, 3, 4, 5, 5, 6, 7, 8]\n",
      "[1, 3, 4, 5]\n"
     ]
    }
   ],
   "source": [
    "# Data structure :\n",
    "\n",
    "#name = \"Rutika\"\n",
    "#name = \"Shabbir\"\n",
    "#name = \"Nilesh\"\n",
    " \n",
    "\n",
    "# List \n",
    "#names = ['Rutika , 'Nilesh','Udbhav\"]\n",
    "#no = [1,2,3,4,5]\n",
    "#print(names)\n",
    "\n",
    "no = [1,2,3,4,5] + [5,6,7,8]\n",
    "print(no)\n",
    "\n",
    "# diff types\n",
    "# name = [ 'Rutika' , 1 , True, 9.54]\n",
    "# prit(name)\n",
    "\n",
    "\n",
    "# accessing elements from list\n",
    "# no = [1,2,3,4,5]\n",
    "# print(no[])\n",
    "# print(no[])\n",
    "# print(no[::2])\n",
    "\n",
    "\n",
    "\n",
    "\n",
    "\n",
    "\n",
    "\n",
    "\n",
    "\n",
    "\n",
    "\n",
    "#list method\n",
    "no = [1,2,3,4,5]\n",
    "# no.append(200)\n",
    "\n",
    "# insert(index,newValue)\n",
    "# no.insert(1,1000)\n",
    "\n",
    "# to merge 2 List\n",
    "# no.extend(101,102,103)\n",
    "\n",
    "\n",
    "\n",
    "# Remove \n",
    "#no.remove(200)\n",
    "#print(no)\n",
    "\n",
    "\n",
    "no.pop(1)   #vindex as param\n",
    "print(no)\n",
    "\n"
   ]
  },
  {
   "cell_type": "code",
   "execution_count": 15,
   "id": "933ce3ce-3c52-489a-a825-2f721fb61e2d",
   "metadata": {},
   "outputs": [
    {
     "name": "stdout",
     "output_type": "stream",
     "text": [
      "('gender', 'M')\n",
      "{'name': 'Aditya', 'contact': 9555656464, 'Address': 'Mumbai - Maharashtra'}\n",
      "['Aditya', 'Shivam', 'Nilesh', 'Shekhar']\n",
      "name\n",
      "contact\n",
      "Address\n",
      "Aditya\n",
      "9555656464\n",
      "Mumbai - Maharashtra\n",
      "name Aditya\n",
      "contact 9555656464\n",
      "Address Mumbai - Maharashtra\n"
     ]
    }
   ],
   "source": [
    "# Syntax - {}\n",
    "\n",
    "'''details = {\n",
    "\n",
    "    \"id\" : 21,\n",
    "    \"name\" : \"Aditya\"\n",
    "    \"elgibility\" : True,\n",
    "    \"height\" : 168.9,\n",
    "    \"Gender\" = 'M'\n",
    "}\n",
    "print(details) '''\n",
    "\n",
    "\n",
    "#info = dict(name = \"Aditya\" ,Contact = 987634678 , gender = 'M')\n",
    "#print(info)\n",
    "\n",
    "#methods\n",
    "# accessing\n",
    "\n",
    "\n",
    "#print(info.get(\"Contact\"))\n",
    "#print(info.get(\"address\" ,\"Not available\"))\n",
    "\n",
    "# print(info.item())\n",
    "# print(info.keys())\n",
    "# print(info.values())\n",
    "\n",
    "# pop() :\n",
    "\n",
    "info = dict(name =\"Aditya\" ,contact = 9555656464 ,gender = 'M')\n",
    "# print(info.pop(\"address\" ,\"Key not available\"))\n",
    "\n",
    "print(info.popitem())\n",
    "\n",
    "\n",
    "# Update \n",
    "\n",
    "info.update({\"Address\" : \"Mumbai - Maharashtra\"})\n",
    "\n",
    "print(info)  \n",
    "\n",
    "details = {\n",
    "    \"Name\" : [\"Aditya\" ,\"Shivam\" ,\"Nilesh\" ,\"Shekhar\"],\n",
    "    \"id\" : [1,2,3,4]\n",
    "}\n",
    "\n",
    "print(details['Name'])  \n",
    "\n",
    "# Iteration : keys() ,items() ,value()\n",
    "\n",
    "for key in info.keys():\n",
    "    print(key)\n",
    "    \n",
    "\n",
    "for val in info.values():\n",
    "    print(val)\n",
    "\n",
    "\n",
    "for key ,val in info.items():\n",
    "    print(key,val)\n",
    "\n"
   ]
  },
  {
   "cell_type": "code",
   "execution_count": 1,
   "id": "4adc5d03-c8df-41d8-a72b-5cc06fba00d5",
   "metadata": {},
   "outputs": [
    {
     "data": {
      "text/plain": [
       "'#\\n\\ninfo = dict(name =\"Aditya\" ,contact = 9555656464 ,gender = \\'M\\')\\n# info[\\'name\\'] = \"Udbhav\"\\n\\ninfo[\\'User-Name\\'] = info.pop(\"name\")\\n                             \\nprint(info)\\n\\n\\n# Creat nested dictionary \\n\\ninfo = {\\n    personal = {\\n    \"id\" : 21,\\n    \"name\" = \"Udbhav\"\\n    \"contact\" : 9555656464\\n   \\n\\n    },\\n     education = {\\n         \"High_school\" = \"St. Francis\\' Mission School\",\\n          \"yearOfPassing\" : 2021,\\n         \\n     }, \\n}\\n'"
      ]
     },
     "execution_count": 1,
     "metadata": {},
     "output_type": "execute_result"
    }
   ],
   "source": [
    "'''#\n",
    "\n",
    "info = dict(name =\"Aditya\" ,contact = 9555656464 ,gender = 'M')\n",
    "# info['name'] = \"Udbhav\"\n",
    "\n",
    "info['User-Name'] = info.pop(\"name\")\n",
    "                             \n",
    "print(info)\n",
    "\n",
    "\n",
    "# Creat nested dictionary \n",
    "\n",
    "info = {\n",
    "    personal = {\n",
    "    \"id\" : 21,\n",
    "    \"name\" = \"Udbhav\"\n",
    "    \"contact\" : 9555656464\n",
    "   \n",
    "\n",
    "    },\n",
    "     education = {\n",
    "         \"High_school\" = \"St. Francis' Mission School\",\n",
    "          \"yearOfPassing\" : 2021,\n",
    "         \n",
    "     }, \n",
    "}\n",
    "'''"
   ]
  },
  {
   "cell_type": "code",
   "execution_count": 16,
   "id": "6a7af39c-9b40-4b0c-a7cc-d783db12446a",
   "metadata": {},
   "outputs": [
    {
     "name": "stdout",
     "output_type": "stream",
     "text": [
      "{1, 2, 3, 4, 5}\n",
      "{1, 2, 3, 4, 5, 6, 7, 8}\n",
      "{2, 3, 5, 6, 7, 8}\n",
      "{1, 2, 3, 4, 5}\n",
      "{1, 2, 3, 4, 5, 6, 7, 8}\n",
      "{2, 3, 5}\n",
      "{8, 6, 7}\n",
      "{1, 4, 6, 7, 8}\n",
      "True\n",
      "False\n",
      "<class 'frozenset'>\n",
      "frozenset({1, 2, 3, 4, 5, 6, 7, 8})\n"
     ]
    }
   ],
   "source": [
    "# Set  : A set is a collection which is unordered, unchangeable*, and unindexed\n",
    "\n",
    "\"\"\" Sets are used to store multiple items in a single variable.\n",
    "\n",
    "Set is one of 4 built-in data types in Python used to store collections of data, the other 3 are\n",
    "List, Tuple, and Dictionary, all with different qualities and usage. \"\"\"\n",
    "\n",
    "# FrozenSet : immutable \n",
    "# sequence , duplicate not alloued , uordered \n",
    "\n",
    "# syntax : \n",
    "grade = { 1,2,3,4,5}\n",
    "print(grade)\n",
    "\n",
    "# Set() : convert list into the set to remove the dublecate item .\n",
    "no = [1,2,3,4,5,6,7,8,1,2,3,4,5]\n",
    "st = set(no)\n",
    "print(st)\n",
    "\n",
    "\n",
    "# methods : CRUD \n",
    "# st.add(100)\n",
    "\n",
    "st.remove(4)\n",
    "# print(st)\n",
    "\n",
    "st.pop()\n",
    "# print(st)\n",
    "\n",
    "st.discard(4)\n",
    "\n",
    "# accessing \n",
    "# for i in st :\n",
    "#      print(i)\n",
    "    \n",
    "\n",
    "# operations : union - combine , intersection , difference \n",
    "\n",
    "print(st)\n",
    "print(grade)\n",
    "print(st | grade)\n",
    "print(st & grade)\n",
    "print(st - grade)\n",
    "print(st ^ grade) # Symmetric difference \n",
    "\n",
    "# membership \n",
    "print(3 in st)\n",
    "print(3 not in st)\n",
    "\n",
    "    \n",
    "# Frozenset : no duplicates , unordered , immutable\n",
    "\n",
    "fs = frozenset([1,2,3,4,5,1,2,3,6,7,8])\n",
    "print(type(fs))\n",
    "\n",
    "# fs.add(add)\n",
    "print(fs)\n",
    "\n",
    "# Union - combine , intraction - , difference - ,\n",
    "\n"
   ]
  },
  {
   "cell_type": "code",
   "execution_count": 31,
   "id": "ee4b0914-1f6f-457d-b5d2-0d0c7b084eab",
   "metadata": {},
   "outputs": [
    {
     "name": "stdin",
     "output_type": "stream",
     "text": [
      "Enter any number 5\n",
      "Enter your second number 8\n"
     ]
    },
    {
     "name": "stdout",
     "output_type": "stream",
     "text": [
      "0.625\n"
     ]
    }
   ],
   "source": [
    "# Exception :\n",
    "\n",
    "'''a = int(input(\"Enter first number\"))\n",
    "b = int(input(\"Enter your second number\"))\n",
    "c = a/b\n",
    "print(c)'''\n",
    "\n",
    "# Exception Types :\n",
    "# 1. Compile time\n",
    " 2. Runtime error\n",
    "    1) ZeroDivisionError:\n",
    "    2) VAlueError :\n",
    "    3) TypeError :\n",
    "    4) IndexError :\n",
    "    5) NameError :\n",
    "    6) ModuleNotFoundError :\n",
    "    7) AttributeError :\n",
    "    8) MemoryError :\n",
    "    9) LogicalError :\n",
    "\n"
   ]
  },
  {
   "cell_type": "code",
   "execution_count": 32,
   "id": "a0e870c1-730b-4bf0-9e56-9d3de4aae8fd",
   "metadata": {},
   "outputs": [
    {
     "name": "stdin",
     "output_type": "stream",
     "text": [
      "Enter first number 5\n",
      "Enter your second number 0\n"
     ]
    },
    {
     "ename": "ZeroDivisionError",
     "evalue": "division by zero",
     "output_type": "error",
     "traceback": [
      "\u001b[1;31m---------------------------------------------------------------------------\u001b[0m",
      "\u001b[1;31mZeroDivisionError\u001b[0m                         Traceback (most recent call last)",
      "Cell \u001b[1;32mIn[32], line 3\u001b[0m\n\u001b[0;32m      1\u001b[0m a \u001b[38;5;241m=\u001b[39m \u001b[38;5;28mint\u001b[39m(\u001b[38;5;28minput\u001b[39m(\u001b[38;5;124m\"\u001b[39m\u001b[38;5;124mEnter first number\u001b[39m\u001b[38;5;124m\"\u001b[39m))\n\u001b[0;32m      2\u001b[0m b \u001b[38;5;241m=\u001b[39m \u001b[38;5;28mint\u001b[39m(\u001b[38;5;28minput\u001b[39m(\u001b[38;5;124m\"\u001b[39m\u001b[38;5;124mEnter your second number\u001b[39m\u001b[38;5;124m\"\u001b[39m))\n\u001b[1;32m----> 3\u001b[0m c \u001b[38;5;241m=\u001b[39m a\u001b[38;5;241m/\u001b[39mb\n\u001b[0;32m      4\u001b[0m \u001b[38;5;28mprint\u001b[39m(c)\n",
      "\u001b[1;31mZeroDivisionError\u001b[0m: division by zero"
     ]
    }
   ],
   "source": [
    "# ZeroDivisionError :\n",
    "\n",
    "a = int(input(\"Enter first number\"))\n",
    "b = int(input(\"Enter your second number\"))\n",
    "c = a/b\n",
    "print(c)\n"
   ]
  },
  {
   "cell_type": "code",
   "execution_count": 38,
   "id": "425f0be0-21d2-4612-bfff-77ad582aa6b9",
   "metadata": {},
   "outputs": [
    {
     "ename": "ValueError",
     "evalue": "invalid literal for int() with base 10: 'Rahul'",
     "output_type": "error",
     "traceback": [
      "\u001b[1;31m---------------------------------------------------------------------------\u001b[0m",
      "\u001b[1;31mValueError\u001b[0m                                Traceback (most recent call last)",
      "Cell \u001b[1;32mIn[38], line 2\u001b[0m\n\u001b[0;32m      1\u001b[0m User_name \u001b[38;5;241m=\u001b[39m \u001b[38;5;124m\"\u001b[39m\u001b[38;5;124mRahul\u001b[39m\u001b[38;5;124m\"\u001b[39m\n\u001b[1;32m----> 2\u001b[0m \u001b[38;5;28mprint\u001b[39m(\u001b[38;5;28mint\u001b[39m(User_name))\n",
      "\u001b[1;31mValueError\u001b[0m: invalid literal for int() with base 10: 'Rahul'"
     ]
    }
   ],
   "source": [
    "# ValueError :\n",
    "\n",
    "User_name = \"Rahul\"\n",
    "print(int(User_name))\n",
    "\n"
   ]
  },
  {
   "cell_type": "code",
   "execution_count": 34,
   "id": "77627047-0e18-4db0-998f-f60d4991b83f",
   "metadata": {
    "scrolled": true
   },
   "outputs": [
    {
     "ename": "TypeError",
     "evalue": "'a' is an invalid keyword argument for print()",
     "output_type": "error",
     "traceback": [
      "\u001b[1;31m---------------------------------------------------------------------------\u001b[0m",
      "\u001b[1;31mTypeError\u001b[0m                                 Traceback (most recent call last)",
      "Cell \u001b[1;32mIn[34], line 3\u001b[0m\n\u001b[0;32m      1\u001b[0m a \u001b[38;5;241m=\u001b[39m \u001b[38;5;241m5\u001b[39m\n\u001b[0;32m      2\u001b[0m b \u001b[38;5;241m=\u001b[39m \u001b[38;5;241m6\u001b[39m \n\u001b[1;32m----> 3\u001b[0m \u001b[38;5;28mprint\u001b[39m(a \u001b[38;5;241m=\u001b[39m b)\n",
      "\u001b[1;31mTypeError\u001b[0m: 'a' is an invalid keyword argument for print()"
     ]
    }
   ],
   "source": [
    "# TypeError :\n",
    "\n",
    "a = 5\n",
    "b = 6 \n",
    "print(a = b)\n"
   ]
  },
  {
   "cell_type": "code",
   "execution_count": 42,
   "id": "6d2e3879-8ba6-4660-b9e6-51105db9b9ac",
   "metadata": {
    "scrolled": true
   },
   "outputs": [
    {
     "name": "stdout",
     "output_type": "stream",
     "text": [
      "3\n"
     ]
    },
    {
     "ename": "IndexError",
     "evalue": "list index out of range",
     "output_type": "error",
     "traceback": [
      "\u001b[1;31m---------------------------------------------------------------------------\u001b[0m",
      "\u001b[1;31mIndexError\u001b[0m                                Traceback (most recent call last)",
      "Cell \u001b[1;32mIn[42], line 3\u001b[0m\n\u001b[0;32m      1\u001b[0m my_list \u001b[38;5;241m=\u001b[39m [\u001b[38;5;241m3\u001b[39m,\u001b[38;5;241m5\u001b[39m,\u001b[38;5;241m7\u001b[39m,\u001b[38;5;241m11\u001b[39m]\n\u001b[0;32m      2\u001b[0m \u001b[38;5;28mprint\u001b[39m(my_list[\u001b[38;5;241m0\u001b[39m])\n\u001b[1;32m----> 3\u001b[0m \u001b[38;5;28mprint\u001b[39m(my_list[\u001b[38;5;241m8\u001b[39m])\n",
      "\u001b[1;31mIndexError\u001b[0m: list index out of range"
     ]
    }
   ],
   "source": [
    "\n",
    "my_list = [3,5,7,11]\n",
    "print(my_list[0])\n",
    "print(my_list[8])\n"
   ]
  },
  {
   "cell_type": "code",
   "execution_count": 35,
   "id": "bd5d5b13-35cc-4001-9118-ea48140e42b2",
   "metadata": {},
   "outputs": [
    {
     "ename": "NameError",
     "evalue": "name 'names' is not defined",
     "output_type": "error",
     "traceback": [
      "\u001b[1;31m---------------------------------------------------------------------------\u001b[0m",
      "\u001b[1;31mNameError\u001b[0m                                 Traceback (most recent call last)",
      "Cell \u001b[1;32mIn[35], line 2\u001b[0m\n\u001b[0;32m      1\u001b[0m name \u001b[38;5;241m=\u001b[39m \u001b[38;5;124m\"\u001b[39m\u001b[38;5;124mUdbhav\u001b[39m\u001b[38;5;124m\"\u001b[39m\n\u001b[1;32m----> 2\u001b[0m \u001b[38;5;28mprint\u001b[39m(names)\n",
      "\u001b[1;31mNameError\u001b[0m: name 'names' is not defined"
     ]
    }
   ],
   "source": [
    "# NameError : \n",
    "\n",
    "name = \"Udbhav\"\n",
    "print(names)\n"
   ]
  },
  {
   "cell_type": "code",
   "execution_count": 40,
   "id": "f3d815b6-d6ce-428c-95d5-a68e67cd36c8",
   "metadata": {},
   "outputs": [
    {
     "ename": "ModuleNotFoundError",
     "evalue": "No module named 'setVale'",
     "output_type": "error",
     "traceback": [
      "\u001b[1;31m---------------------------------------------------------------------------\u001b[0m",
      "\u001b[1;31mModuleNotFoundError\u001b[0m                       Traceback (most recent call last)",
      "Cell \u001b[1;32mIn[40], line 1\u001b[0m\n\u001b[1;32m----> 1\u001b[0m \u001b[38;5;28;01mimport\u001b[39;00m \u001b[38;5;21;01msetVale\u001b[39;00m\n",
      "\u001b[1;31mModuleNotFoundError\u001b[0m: No module named 'setVale'"
     ]
    }
   ],
   "source": [
    "# ModuleNotFoundError :\n",
    "\n",
    "import setVale\n",
    "\n"
   ]
  },
  {
   "cell_type": "code",
   "execution_count": 41,
   "id": "8c6f04e0-018b-4285-ae84-309c47b7646d",
   "metadata": {},
   "outputs": [
    {
     "ename": "AttributeError",
     "evalue": "'str' object has no attribute 'uper'",
     "output_type": "error",
     "traceback": [
      "\u001b[1;31m---------------------------------------------------------------------------\u001b[0m",
      "\u001b[1;31mAttributeError\u001b[0m                            Traceback (most recent call last)",
      "Cell \u001b[1;32mIn[41], line 2\u001b[0m\n\u001b[0;32m      1\u001b[0m Name \u001b[38;5;241m=\u001b[39m \u001b[38;5;124m'\u001b[39m\u001b[38;5;124m Python\u001b[39m\u001b[38;5;124m'\u001b[39m\n\u001b[1;32m----> 2\u001b[0m \u001b[38;5;28mprint\u001b[39m(Name\u001b[38;5;241m.\u001b[39muper())\n",
      "\u001b[1;31mAttributeError\u001b[0m: 'str' object has no attribute 'uper'"
     ]
    }
   ],
   "source": [
    "# AttributeError :\n",
    "\n",
    "Name = ' Python'\n",
    "print(Name.uper())\n",
    "\n"
   ]
  },
  {
   "cell_type": "code",
   "execution_count": 48,
   "id": "6d66a201-c067-4aff-b0c0-ef22d6285d6c",
   "metadata": {},
   "outputs": [
    {
     "ename": "MemoryError",
     "evalue": "",
     "output_type": "error",
     "traceback": [
      "\u001b[1;31m---------------------------------------------------------------------------\u001b[0m",
      "\u001b[1;31mMemoryError\u001b[0m                               Traceback (most recent call last)",
      "Cell \u001b[1;32mIn[48], line 4\u001b[0m\n\u001b[0;32m      1\u001b[0m \u001b[38;5;66;03m# MemoryError :\u001b[39;00m\n\u001b[0;32m      3\u001b[0m \u001b[38;5;28mlist\u001b[39m \u001b[38;5;241m=\u001b[39m [\u001b[38;5;241m1\u001b[39m,\u001b[38;5;241m2\u001b[39m,\u001b[38;5;241m3\u001b[39m,\u001b[38;5;241m4\u001b[39m,\u001b[38;5;241m5\u001b[39m,\u001b[38;5;241m6\u001b[39m,\u001b[38;5;241m7\u001b[39m,\u001b[38;5;241m8\u001b[39m,\u001b[38;5;241m9\u001b[39m]\n\u001b[1;32m----> 4\u001b[0m \u001b[38;5;28mprint\u001b[39m(\u001b[38;5;28mlist\u001b[39m \u001b[38;5;241m*\u001b[39m \u001b[38;5;241m10\u001b[39m\u001b[38;5;241m*\u001b[39m\u001b[38;5;241m*\u001b[39m\u001b[38;5;241m10\u001b[39m)\n",
      "\u001b[1;31mMemoryError\u001b[0m: "
     ]
    }
   ],
   "source": [
    "# MemoryError :\n",
    "\n",
    "list = [1,2,3,4,5,6,7,8,9]\n",
    "print(list * 10**10)\n",
    "\n"
   ]
  },
  {
   "cell_type": "code",
   "execution_count": 43,
   "id": "8226bd15-a160-49f7-ab68-73a989e21c43",
   "metadata": {},
   "outputs": [
    {
     "name": "stdout",
     "output_type": "stream",
     "text": [
      "The average of 10 and 20 is: 20.0\n"
     ]
    }
   ],
   "source": [
    "# Logical Error :\n",
    "\n",
    "def calculate_average(x, y):\n",
    "   \n",
    "    \"\"\"Calculates the average of two numbers.\"\"\"\n",
    "    # Logical error: Should be (x + y) / 2\n",
    "   \n",
    "    average = x + y / 2  \n",
    "    return average\n",
    "\n",
    "num1 = 10\n",
    "num2 = 20\n",
    "result = calculate_average(num1, num2)\n",
    "print(f\"The average of {num1} and {num2} is: {result}\") \n",
    "\n",
    "\n",
    "# Output: 20.0, should be 15.0"
   ]
  },
  {
   "cell_type": "code",
   "execution_count": 56,
   "id": "ebdbba3a-d3c9-492e-8218-660849817bc2",
   "metadata": {},
   "outputs": [
    {
     "name": "stdin",
     "output_type": "stream",
     "text": [
      "Enter denominator: 0\n"
     ]
    },
    {
     "name": "stdout",
     "output_type": "stream",
     "text": [
      "division by zero\n",
      "Cannot divide by zero\n",
      "Thank you\n"
     ]
    }
   ],
   "source": [
    "# type - except :\n",
    "a = 2\n",
    "b = int(input(\"Enter denominator:\"))\n",
    "c =0\n",
    "try:\n",
    "    # Risky Code\n",
    "    \n",
    "    c = a/b\n",
    "    \n",
    "   \n",
    "except Exception as e :\n",
    "    # Error Handing\n",
    "    print(e)\n",
    "    print(\"Cannot divide by zero\")\n",
    "\n",
    "\n",
    "else: \n",
    "    print(c)\n",
    "\n",
    "\n",
    "finally :\n",
    "    print(\"Thank you\")\n",
    "\n",
    "\n",
    "    \n",
    "    "
   ]
  },
  {
   "cell_type": "code",
   "execution_count": 27,
   "id": "fd1a9dfd-61ad-40ea-9969-1d7ea72d7b7f",
   "metadata": {},
   "outputs": [
    {
     "ename": "SyntaxError",
     "evalue": "invalid syntax (446577078.py, line 26)",
     "output_type": "error",
     "traceback": [
      "\u001b[1;36m  Cell \u001b[1;32mIn[27], line 26\u001b[1;36m\u001b[0m\n\u001b[1;33m    retrun a/b\u001b[0m\n\u001b[1;37m           ^\u001b[0m\n\u001b[1;31mSyntaxError\u001b[0m\u001b[1;31m:\u001b[0m invalid syntax\n"
     ]
    }
   ],
   "source": [
    "# Perform CRUD Operation on a list , manage exception if it might occur\n",
    "\n",
    "data = [1, 2, 3, 4, 5, 6, 7, 8, 9]\n",
    "\n",
    "print(\"Initial List:\")\n",
    "print(data)\n",
    "\n",
    "try:\n",
    "    new_item = 10\n",
    "    # Create item\n",
    "    data.append(new_item)\n",
    "    # Insert\n",
    "    data.insert(11,10)\n",
    "    # delete\n",
    "    data.remove(10)\n",
    "    print(f\"Item '{new_item}' added successfully.\")\n",
    "\n",
    "except Exception as e:\n",
    "    print(f\"Error adding item: {e}\")\n",
    "\n",
    "\n",
    "    \n",
    "\n"
   ]
  },
  {
   "cell_type": "code",
   "execution_count": 25,
   "id": "acae1ecf-b90d-4a90-94df-2337ee0885ad",
   "metadata": {},
   "outputs": [
    {
     "ename": "ValueError",
     "evalue": "invalid literal for int() with base 10: 'Rahul'",
     "output_type": "error",
     "traceback": [
      "\u001b[1;31m---------------------------------------------------------------------------\u001b[0m",
      "\u001b[1;31mValueError\u001b[0m                                Traceback (most recent call last)",
      "Cell \u001b[1;32mIn[25], line 5\u001b[0m\n\u001b[0;32m      1\u001b[0m \u001b[38;5;66;03m# WAP to give example of ValueError\u001b[39;00m\n\u001b[0;32m      4\u001b[0m User_name \u001b[38;5;241m=\u001b[39m \u001b[38;5;124m\"\u001b[39m\u001b[38;5;124mRahul\u001b[39m\u001b[38;5;124m\"\u001b[39m\n\u001b[1;32m----> 5\u001b[0m \u001b[38;5;28mprint\u001b[39m(\u001b[38;5;28mint\u001b[39m(User_name))\n",
      "\u001b[1;31mValueError\u001b[0m: invalid literal for int() with base 10: 'Rahul'"
     ]
    }
   ],
   "source": [
    "# WAP to give example of ValueError\n",
    "\n",
    "\n",
    "User_name = \"Rahul\"\n",
    "print(int(User_name))      # ValueError :\n",
    "\n"
   ]
  },
  {
   "cell_type": "code",
   "execution_count": 63,
   "id": "e433f6e3-6030-4f4b-98ea-9baffcb33851",
   "metadata": {},
   "outputs": [
    {
     "name": "stdout",
     "output_type": "stream",
     "text": [
      "demoninator cannot be less than 1\n"
     ]
    }
   ],
   "source": [
    "# Raise : statement \n",
    "\n",
    "def division(a,b):\n",
    "    if b<1:\n",
    "        raise ZeroDivisionError(\"demoninator cannot be less than 1\")\n",
    "    return a/b\n",
    "     \n",
    "try:\n",
    "    result = division(20, 0)  # This will raise an exception\n",
    "    print(result)\n",
    " \n",
    "except Exception as e:\n",
    "   print(e)"
   ]
  },
  {
   "cell_type": "code",
   "execution_count": 55,
   "id": "8257d350-bf9c-4230-b5f1-381137516826",
   "metadata": {},
   "outputs": [
    {
     "name": "stdout",
     "output_type": "stream",
     "text": [
      "Denominator cannot be less than or equal to 0\n"
     ]
    }
   ],
   "source": [
    "def division(a, b):\n",
    "    if b <= 0:  # Check if the denominator is less than or equal to 0\n",
    "        raise ZeroDivisionError(\"Denominator cannot be less than or equal to 0\")\n",
    "    return a / b\n",
    "\n",
    "try:\n",
    "    result = division(20, 0)  # This will raise an exception\n",
    "    print(result)\n",
    "except ZeroDivisionError as e:\n",
    "    print(e)  # Catching the specific ZeroDivisionError\n",
    "except Exception as e:\n",
    "    print(\"An unexpected error occurred:\", e)  # Catching any other exceptions"
   ]
  },
  {
   "cell_type": "code",
   "execution_count": 9,
   "id": "609da011-e7a5-401c-a6b3-d25fda109e07",
   "metadata": {},
   "outputs": [
    {
     "ename": "SyntaxError",
     "evalue": "expected ':' (3273528565.py, line 10)",
     "output_type": "error",
     "traceback": [
      "\u001b[1;36m  Cell \u001b[1;32mIn[9], line 10\u001b[1;36m\u001b[0m\n\u001b[1;33m    else age >18:\u001b[0m\n\u001b[1;37m         ^\u001b[0m\n\u001b[1;31mSyntaxError\u001b[0m\u001b[1;31m:\u001b[0m expected ':'\n"
     ]
    }
   ],
   "source": [
    "#  Custom Exception :\n",
    "\n",
    "class AgeExceptionError(Exception):\n",
    "    pass\n",
    "\n",
    "def isEligible(age):\n",
    "    if age <= 18:\n",
    "        raise AgeExceptionError(\"Age should be greater than 18!!\")\n",
    "   \n",
    "    else age >18:\n",
    "    return \"You are not eligible\"\n",
    "try:\n",
    "    print(isEligible(20))\n",
    "except Exception as e:\n",
    "      print(e)\n",
    "\n"
   ]
  },
  {
   "cell_type": "code",
   "execution_count": 4,
   "id": "03b6c23e-dfbd-44ef-aac4-c9fdb1136325",
   "metadata": {},
   "outputs": [
    {
     "name": "stdout",
     "output_type": "stream",
     "text": [
      "<class 'tuple'>\n",
      "(1, 'Juveriya', 'WEPP', 'Delhi', True, 156.34)\n",
      "(1, 'Juveriya', 'WEPP', 'Delhi', 1, 'Juveriya', 'WEPP', 'Delhi')\n",
      "Juveriya\n",
      "('Juveriya', 'WEPP')\n",
      "1\n",
      "0\n",
      "(1, 'Juveriya', 'WEPP', 'Delhi')\n",
      "1\n",
      "Juveriya\n",
      "WEPP\n",
      "Delhi\n"
     ]
    }
   ],
   "source": [
    "#  \n",
    "detail = (1,\"Juveriya\" , \"WEPP\" ,\"Delhi\")\n",
    "print(type(detail))\n",
    "\n",
    "# Operation\n",
    "print(detail + (True , 156.34))\n",
    "print(detail * 2)\n",
    "\n",
    "#indexing and slicing\n",
    "print(detail[1])\n",
    "print(detail[1:3])\n",
    "\n",
    "# method\n",
    "print(detail.count(1))      \n",
    "print( detail.index(1))\n",
    "\n",
    "# packing\n",
    "print(detail)\n",
    "\n",
    "\n",
    "age ,name ,course , place = detail\n",
    "\n",
    "print(age)\n",
    "print(name)\n",
    "print(course)\n",
    "print(place)\n"
   ]
  },
  {
   "cell_type": "code",
   "execution_count": 8,
   "id": "d2ba9618-a6dc-41e6-b2e2-2b77392882aa",
   "metadata": {},
   "outputs": [
    {
     "ename": "UnicodeDecodeError",
     "evalue": "'charmap' codec can't decode byte 0x81 in position 638: character maps to <undefined>",
     "output_type": "error",
     "traceback": [
      "\u001b[1;31m---------------------------------------------------------------------------\u001b[0m",
      "\u001b[1;31mUnicodeDecodeError\u001b[0m                        Traceback (most recent call last)",
      "Cell \u001b[1;32mIn[8], line 11\u001b[0m\n\u001b[0;32m      5\u001b[0m \u001b[38;5;66;03m# print(filePath)\u001b[39;00m\n\u001b[0;32m      6\u001b[0m \n\u001b[0;32m      7\u001b[0m \u001b[38;5;66;03m# open(fileLocation ,mode of operation) : open a file \u001b[39;00m\n\u001b[0;32m      8\u001b[0m \u001b[38;5;66;03m# mode - read - r , write - w ,update - a\u001b[39;00m\n\u001b[0;32m     10\u001b[0m file \u001b[38;5;241m=\u001b[39m \u001b[38;5;28mopen\u001b[39m(filePath , \u001b[38;5;124m'\u001b[39m\u001b[38;5;124mr\u001b[39m\u001b[38;5;124m'\u001b[39m)  \u001b[38;5;66;03m# read()\u001b[39;00m\n\u001b[1;32m---> 11\u001b[0m \u001b[38;5;28mprint\u001b[39m(file\u001b[38;5;241m.\u001b[39mread())\n\u001b[0;32m     12\u001b[0m file\u001b[38;5;241m.\u001b[39mclose()\n\u001b[0;32m     14\u001b[0m \u001b[38;5;28;01mwith\u001b[39;00m \u001b[38;5;28mopen\u001b[39m(filePath , \u001b[38;5;124m'\u001b[39m\u001b[38;5;124mr\u001b[39m\u001b[38;5;124m'\u001b[39m) \u001b[38;5;28;01mas\u001b[39;00m file:\n",
      "File \u001b[1;32m~\\OneDrive\\Documents\\Downloads\\Lib\\encodings\\cp1252.py:23\u001b[0m, in \u001b[0;36mIncrementalDecoder.decode\u001b[1;34m(self, input, final)\u001b[0m\n\u001b[0;32m     22\u001b[0m \u001b[38;5;28;01mdef\u001b[39;00m \u001b[38;5;21mdecode\u001b[39m(\u001b[38;5;28mself\u001b[39m, \u001b[38;5;28minput\u001b[39m, final\u001b[38;5;241m=\u001b[39m\u001b[38;5;28;01mFalse\u001b[39;00m):\n\u001b[1;32m---> 23\u001b[0m     \u001b[38;5;28;01mreturn\u001b[39;00m codecs\u001b[38;5;241m.\u001b[39mcharmap_decode(\u001b[38;5;28minput\u001b[39m,\u001b[38;5;28mself\u001b[39m\u001b[38;5;241m.\u001b[39merrors,decoding_table)[\u001b[38;5;241m0\u001b[39m]\n",
      "\u001b[1;31mUnicodeDecodeError\u001b[0m: 'charmap' codec can't decode byte 0x81 in position 638: character maps to <undefined>"
     ]
    }
   ],
   "source": [
    "# File Handling : .txt , .pdf , .doc\n",
    "                                         # Read a Text File \n",
    "# file path \n",
    "filePath = \"C:/Users/ASUS/OneDrive/Desktop/udbhav singh resumes.docx\"\n",
    "# print(filePath)\n",
    "\n",
    "# open(fileLocation ,mode of operation) : open a file \n",
    "# mode - read - r , write - w ,update - a\n",
    "# open(filePath , mode) \n",
    "\n",
    "\n",
    "file = open(filePath , 'r')  # read()\n",
    "print(file.read())\n",
    "file.close()\n",
    "\n",
    "with open(filePath , 'r') as file:\n",
    "    print(file.read())\n",
    "\n"
   ]
  },
  {
   "cell_type": "code",
   "execution_count": 12,
   "id": "13964e4f-7eb1-4fb0-9fc9-d0c0895f1554",
   "metadata": {},
   "outputs": [
    {
     "ename": "NameError",
     "evalue": "name 'fie' is not defined",
     "output_type": "error",
     "traceback": [
      "\u001b[1;31m---------------------------------------------------------------------------\u001b[0m",
      "\u001b[1;31mNameError\u001b[0m                                 Traceback (most recent call last)",
      "Cell \u001b[1;32mIn[12], line 5\u001b[0m\n\u001b[0;32m      3\u001b[0m path \u001b[38;5;241m=\u001b[39m \u001b[38;5;124m\"\u001b[39m\u001b[38;5;124mC:/Users/ASUS/OneDrive/Desktop/Program.txt\u001b[39m\u001b[38;5;124m\"\u001b[39m\n\u001b[0;32m      4\u001b[0m \u001b[38;5;28;01mwith\u001b[39;00m \u001b[38;5;28mopen\u001b[39m(path,\u001b[38;5;124m'\u001b[39m\u001b[38;5;124mw\u001b[39m\u001b[38;5;124m'\u001b[39m) \u001b[38;5;28;01mas\u001b[39;00m file:\n\u001b[1;32m----> 5\u001b[0m     fie\u001b[38;5;241m.\u001b[39mwrite(\u001b[38;5;124m\"\u001b[39m\u001b[38;5;124mhello this is our first writing operation in file handling, thank you for watching!!\u001b[39m\u001b[38;5;124m\"\u001b[39m)\n\u001b[0;32m      7\u001b[0m \u001b[38;5;28mprint\u001b[39m(\u001b[38;5;124m\"\u001b[39m\u001b[38;5;124mdone\u001b[39m\u001b[38;5;124m\"\u001b[39m)\n",
      "\u001b[1;31mNameError\u001b[0m: name 'fie' is not defined"
     ]
    }
   ],
   "source": [
    "#  create a new file - mode - w , method - write() , append/update , delete\n",
    "\n",
    "path = \"C:/Users/ASUS/OneDrive/Desktop/Program.txt\"\n",
    "#with open(path,'w') as file:\n",
    " #   fie.write(\"hello this is our first writing operation in file handling, thank you for watching!!\")\n",
    "\n",
    "#print(\"done\")\n",
    "\n",
    "\n"
   ]
  },
  {
   "cell_type": "code",
   "execution_count": 1,
   "id": "fb4527d1-1bdf-41d3-be1d-0d615bd978a0",
   "metadata": {},
   "outputs": [
    {
     "ename": "UnicodeDecodeError",
     "evalue": "'charmap' codec can't decode byte 0x81 in position 638: character maps to <undefined>",
     "output_type": "error",
     "traceback": [
      "\u001b[1;31m---------------------------------------------------------------------------\u001b[0m",
      "\u001b[1;31mUnicodeDecodeError\u001b[0m                        Traceback (most recent call last)",
      "Cell \u001b[1;32mIn[1], line 4\u001b[0m\n\u001b[0;32m      1\u001b[0m \u001b[38;5;66;03m# open()\u001b[39;00m\n\u001b[0;32m      2\u001b[0m \u001b[38;5;66;03m#open(filePath , 'mode')\u001b[39;00m\n\u001b[0;32m      3\u001b[0m file \u001b[38;5;241m=\u001b[39m \u001b[38;5;28mopen\u001b[39m(\u001b[38;5;124m\"\u001b[39m\u001b[38;5;124mC:/Users/ASUS/OneDrive/Desktop/udbhav singh resumes.docx\u001b[39m\u001b[38;5;124m\"\u001b[39m , \u001b[38;5;124m'\u001b[39m\u001b[38;5;124mr\u001b[39m\u001b[38;5;124m'\u001b[39m)\n\u001b[1;32m----> 4\u001b[0m content \u001b[38;5;241m=\u001b[39m file\u001b[38;5;241m.\u001b[39mread()\n\u001b[0;32m      5\u001b[0m \u001b[38;5;28mprint\u001b[39m(content)\n\u001b[0;32m      6\u001b[0m file\u001b[38;5;241m.\u001b[39mclose()\n",
      "File \u001b[1;32m~\\OneDrive\\Documents\\Downloads\\Lib\\encodings\\cp1252.py:23\u001b[0m, in \u001b[0;36mIncrementalDecoder.decode\u001b[1;34m(self, input, final)\u001b[0m\n\u001b[0;32m     22\u001b[0m \u001b[38;5;28;01mdef\u001b[39;00m \u001b[38;5;21mdecode\u001b[39m(\u001b[38;5;28mself\u001b[39m, \u001b[38;5;28minput\u001b[39m, final\u001b[38;5;241m=\u001b[39m\u001b[38;5;28;01mFalse\u001b[39;00m):\n\u001b[1;32m---> 23\u001b[0m     \u001b[38;5;28;01mreturn\u001b[39;00m codecs\u001b[38;5;241m.\u001b[39mcharmap_decode(\u001b[38;5;28minput\u001b[39m,\u001b[38;5;28mself\u001b[39m\u001b[38;5;241m.\u001b[39merrors,decoding_table)[\u001b[38;5;241m0\u001b[39m]\n",
      "\u001b[1;31mUnicodeDecodeError\u001b[0m: 'charmap' codec can't decode byte 0x81 in position 638: character maps to <undefined>"
     ]
    }
   ],
   "source": [
    "# open()\n",
    "#open(filePath , 'mode')\n",
    "file = open(\"C:/Users/ASUS/OneDrive/Desktop/udbhav singh resumes.docx\" , 'r')\n",
    "content = file.read()\n",
    "print(content)\n",
    "file.close()\n",
    "\n"
   ]
  },
  {
   "cell_type": "code",
   "execution_count": 7,
   "id": "2fa57cd9-161a-45ac-81f7-dd34392bda7b",
   "metadata": {},
   "outputs": [
    {
     "name": "stdout",
     "output_type": "stream",
     "text": [
      "File created successfully\n",
      "<module 'ntpath' (frozen)>\n",
      "['DirEntry', 'EX_OK', 'F_OK', 'GenericAlias', 'Mapping', 'MutableMapping', 'O_APPEND', 'O_BINARY', 'O_CREAT', 'O_EXCL', 'O_NOINHERIT', 'O_RANDOM', 'O_RDONLY', 'O_RDWR', 'O_SEQUENTIAL', 'O_SHORT_LIVED', 'O_TEMPORARY', 'O_TEXT', 'O_TRUNC', 'O_WRONLY', 'P_DETACH', 'P_NOWAIT', 'P_NOWAITO', 'P_OVERLAY', 'P_WAIT', 'PathLike', 'R_OK', 'SEEK_CUR', 'SEEK_END', 'SEEK_SET', 'TMP_MAX', 'W_OK', 'X_OK', '_AddedDllDirectory', '_Environ', '__all__', '__builtins__', '__doc__', '__file__', '__loader__', '__name__', '__package__', '__spec__', '_check_methods', '_execvpe', '_exists', '_exit', '_fspath', '_get_exports_list', '_walk_symlinks_as_files', '_wrap_close', 'abc', 'abort', 'access', 'add_dll_directory', 'altsep', 'chdir', 'chmod', 'close', 'closerange', 'cpu_count', 'curdir', 'defpath', 'device_encoding', 'devnull', 'dup', 'dup2', 'environ', 'error', 'execl', 'execle', 'execlp', 'execlpe', 'execv', 'execve', 'execvp', 'execvpe', 'extsep', 'fdopen', 'fsdecode', 'fsencode', 'fspath', 'fstat', 'fsync', 'ftruncate', 'get_blocking', 'get_exec_path', 'get_handle_inheritable', 'get_inheritable', 'get_terminal_size', 'getcwd', 'getcwdb', 'getenv', 'getlogin', 'getpid', 'getppid', 'isatty', 'kill', 'linesep', 'link', 'listdir', 'listdrives', 'listmounts', 'listvolumes', 'lseek', 'lstat', 'makedirs', 'mkdir', 'name', 'open', 'pardir', 'path', 'pathsep', 'pipe', 'popen', 'putenv', 'read', 'readlink', 'remove', 'removedirs', 'rename', 'renames', 'replace', 'rmdir', 'scandir', 'sep', 'set_blocking', 'set_handle_inheritable', 'set_inheritable', 'spawnl', 'spawnle', 'spawnv', 'spawnve', 'st', 'startfile', 'stat', 'stat_result', 'statvfs_result', 'strerror', 'supports_bytes_environ', 'supports_dir_fd', 'supports_effective_ids', 'supports_fd', 'supports_follow_symlinks', 'symlink', 'sys', 'system', 'terminal_size', 'times', 'times_result', 'truncate', 'umask', 'uname_result', 'unlink', 'unsetenv', 'urandom', 'utime', 'waitpid', 'waitstatus_to_exitcode', 'walk', 'write']\n"
     ]
    }
   ],
   "source": [
    "\n",
    "# create \n",
    "\n",
    "file = open(\"NewlyCreatedFile.txt\" , 'w')\n",
    "file.write('Welcome to the new file')\n",
    "print('File created successfully')\n",
    "file.close()\n",
    "'''\n",
    "# Write\n",
    "filePath = \"C:\\Users\\ASUS\\ anudip python course\\first\\NewlyCreatedFile.txt\"\n",
    "file = open(filePath , 'w')\n",
    "file.write('Python programming session')\n",
    "file.close()'''\n",
    "\n",
    "import os\n",
    "\n",
    "print(os.path)\n",
    "\n",
    "print(dir(os))\n",
    "\n",
    "# to see the module use print(dir(method)) & method like string , math .\n"
   ]
  },
  {
   "cell_type": "code",
   "execution_count": 11,
   "id": "9292b09a-02b1-4a3a-9bdf-303232719319",
   "metadata": {},
   "outputs": [
    {
     "name": "stdout",
     "output_type": "stream",
     "text": [
      "done\n"
     ]
    }
   ],
   "source": [
    "# append : update\n",
    "\n",
    "filePath = \"C:/Users/ASUS/ anudip python course/first/NewlyCreatedFile.txt\"\n",
    "file = open(filePath , 'a')\n",
    "file.write('\\nThank you for watching , bye guys')\n",
    "print('done')\n",
    "file.close()\n",
    "\n"
   ]
  },
  {
   "cell_type": "code",
   "execution_count": null,
   "id": "42b1d558-d375-41c9-8c26-cd5a7bfdcf20",
   "metadata": {},
   "outputs": [],
   "source": [
    "# with open approach\n",
    "\n",
    "with open(filePath , 'a') as file :\n",
    "    file.write(\n",
    "\n"
   ]
  },
  {
   "cell_type": "code",
   "execution_count": 12,
   "id": "42296523-7b35-4b52-87dd-2ed3b120e521",
   "metadata": {},
   "outputs": [
    {
     "name": "stdout",
     "output_type": "stream",
     "text": [
      "File deleted successfully\n"
     ]
    }
   ],
   "source": [
    "import os \n",
    "\n",
    "# print(os.getcwd())\n",
    "# print(os.listdir())\n",
    "# print(os.path)\n",
    "# print(os.mkdir('OsFolder'))\n",
    "\n",
    "filePath = \"C:/Users/ASUS/ anudip python course/first/NewlyCreatedFile.txt\"\n",
    "if os.path.exists(filePath):\n",
    "    os.remove(filePath)\n",
    "    print('File deleted successfully')\n",
    "\n",
    "else:\n",
    "    print('File does not exist')\n"
   ]
  },
  {
   "cell_type": "code",
   "execution_count": 37,
   "id": "688c95ad-ebd8-4e61-870c-6639cecf1d16",
   "metadata": {},
   "outputs": [
    {
     "name": "stdout",
     "output_type": "stream",
     "text": [
      "['harshit', '24']\n",
      "[]\n",
      "['Divyata', '21', 'WEPP']\n",
      "[]\n",
      "['Aditya', '22', 'WEPP']\n",
      "[]\n",
      "Done\n"
     ]
    },
    {
     "ename": "UnsupportedOperation",
     "evalue": "not writable",
     "output_type": "error",
     "traceback": [
      "\u001b[1;31m---------------------------------------------------------------------------\u001b[0m",
      "\u001b[1;31mUnsupportedOperation\u001b[0m                      Traceback (most recent call last)",
      "Cell \u001b[1;32mIn[37], line 50\u001b[0m\n\u001b[0;32m     47\u001b[0m     content \u001b[38;5;241m=\u001b[39m file\u001b[38;5;241m.\u001b[39mread()\n\u001b[0;32m     49\u001b[0m \u001b[38;5;28;01mwith\u001b[39;00m \u001b[38;5;28mopen\u001b[39m ( \u001b[38;5;124m\"\u001b[39m\u001b[38;5;124mC:/Users/ASUS/OneDrive/Desktop/powerpy.docx\u001b[39m\u001b[38;5;124m\"\u001b[39m) \u001b[38;5;28;01mas\u001b[39;00m file:\n\u001b[1;32m---> 50\u001b[0m     file\u001b[38;5;241m.\u001b[39mwrite(content\u001b[38;5;241m.\u001b[39mreplace(\u001b[38;5;124m\"\u001b[39m\u001b[38;5;124mDone\u001b[39m\u001b[38;5;124m\"\u001b[39m ,\u001b[38;5;124m'\u001b[39m\u001b[38;5;124m'\u001b[39m))\n\u001b[0;32m     51\u001b[0m     \u001b[38;5;28mprint\u001b[39m(\u001b[38;5;124m'\u001b[39m\u001b[38;5;124mchar removed\u001b[39m\u001b[38;5;124m'\u001b[39m)\n",
      "\u001b[1;31mUnsupportedOperation\u001b[0m: not writable"
     ]
    }
   ],
   "source": [
    "# CSV\n",
    " \n",
    "import csv \n",
    "\n",
    "\n",
    "filePath = \"C:/Users/ASUS/OneDrive/Desktop/powerpy.docx\"\n",
    "with open(filePath , 'r') as file:\n",
    "    content = csv.reader(file)\n",
    "    for row in content:\n",
    "        print(row)\n",
    "\n",
    "# print(dir(csv))\n",
    "\n",
    "# write in a csv file\n",
    "data = [\n",
    "    ['harshit', 24],\n",
    "    ['Divyata' , 21 , 'WEPP'],\n",
    "    ['Aditya' , 22, 'WEPP']\n",
    "]\n",
    "\n",
    "with open(filePath ,'w') as file:\n",
    "    write = csv.writer(file)\n",
    "    write.writerows(data)\n",
    "    print('Done')\n",
    "    \n",
    "    \n",
    "# append \n",
    "\"\"\"data = ['Harishit',21,'WEPP']\n",
    "\n",
    "with open(filePath ,'a' , newline='') as file:\n",
    "    writer = csv.writer(file)\n",
    "    writer.witerow(data)\n",
    "    print('Done')  \"\"\"\n",
    "\n",
    "# delete a file \n",
    " \n",
    "\n",
    "# remove specific content from file \n",
    "with open ( \"C:/Users/ASUS/OneDrive/Desktop/powerpy.docx\") as file :\n",
    "    content = file.read()\n",
    "\n",
    "with open ( \"C:/Users/ASUS/OneDrive/Desktop/powerpy.docx\") as file:\n",
    "    file.write(content.replace(\"Done\" ,''))\n",
    "    print('char removed')\n",
    "\n"
   ]
  },
  {
   "cell_type": "code",
   "execution_count": null,
   "id": "f87aad3e-2a81-4871-8ea7-3e4e25007a6c",
   "metadata": {},
   "outputs": [],
   "source": []
  },
  {
   "cell_type": "code",
   "execution_count": null,
   "id": "c99cd0c9-ce4a-476f-b041-11dd52b7eb5f",
   "metadata": {},
   "outputs": [],
   "source": []
  }
 ],
 "metadata": {
  "kernelspec": {
   "display_name": "Python 3 (ipykernel)",
   "language": "python",
   "name": "python3"
  },
  "language_info": {
   "codemirror_mode": {
    "name": "ipython",
    "version": 3
   },
   "file_extension": ".py",
   "mimetype": "text/x-python",
   "name": "python",
   "nbconvert_exporter": "python",
   "pygments_lexer": "ipython3",
   "version": "3.12.7"
  }
 },
 "nbformat": 4,
 "nbformat_minor": 5
}
