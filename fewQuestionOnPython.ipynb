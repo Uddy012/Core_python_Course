{
 "cells": [
  {
   "cell_type": "code",
   "execution_count": 5,
   "id": "aaea4842-56b4-4f21-8115-c1f8fe96340b",
   "metadata": {},
   "outputs": [
    {
     "name": "stdout",
     "output_type": "stream",
     "text": [
      "98\n"
     ]
    }
   ],
   "source": [
    "# 1)  Write a function to return the second largest number in a list of integers.                                                                                                                                                 \n",
    "\n",
    "def second_largest(numbers):\n",
    "    unique_nums = sorted(list(set(numbers)))\n",
    "    if len(unique_nums) < 2:\n",
    "        return None\n",
    "    return unique_nums[-2]\n",
    "\n",
    "print(second_largest([10,20,4,40,20,65,98,99]))  # 98 is second largest number . \n"
   ]
  },
  {
   "cell_type": "code",
   "execution_count": 10,
   "id": "93d897b4-71b3-4ff7-82bd-27414bfbc24b",
   "metadata": {},
   "outputs": [
    {
     "name": "stdout",
     "output_type": "stream",
     "text": [
      "True\n",
      "False\n"
     ]
    }
   ],
   "source": [
    "# 2) Write a function that checks whether a number is prime or not.  \n",
    "\n",
    "def is_prime(n):\n",
    "    if n <= 1:\n",
    "        return False\n",
    "    for i in range(2, int(n**0.5) + 1):\n",
    "        if n % i == 0:\n",
    "            return False\n",
    "    return True\n",
    "\n",
    "# Example : \n",
    "\n",
    "print(is_prime(17))  # true\n",
    "print(is_prime(18))  # false\n",
    "\n",
    "\n"
   ]
  },
  {
   "cell_type": "code",
   "execution_count": 8,
   "id": "0c194db0-1fad-4d2a-93c3-44f7f1942508",
   "metadata": {},
   "outputs": [
    {
     "name": "stdout",
     "output_type": "stream",
     "text": [
      "python is this world Hello\n"
     ]
    }
   ],
   "source": [
    "# 3) Write a function to reverse the words in a sentence.\n",
    "\n",
    "def reverseWords(sentence):\n",
    "    words = sentence.split()\n",
    "    return \" \".join(reversed(words))\n",
    "\n",
    "print(reverseWords(\"Hello world this is python\"))  # python is awesome this world Hello"
   ]
  },
  {
   "cell_type": "code",
   "execution_count": 11,
   "id": "6ec8d9ee-3595-4d01-aca4-173dec10e216",
   "metadata": {},
   "outputs": [
    {
     "name": "stdout",
     "output_type": "stream",
     "text": [
      "3\n"
     ]
    }
   ],
   "source": [
    "# 4 ) You are given a list of n-1 numbers from 1 to n. Find the missing number.\n",
    "\n",
    "def find_missing_number(nums):\n",
    "    n = len(nums) + 1  \n",
    "    expected_sum = n * (n + 1) // 2  \n",
    "    actual_sum = sum(nums)\n",
    "    return expected_sum - actual_sum\n",
    "\n",
    "# example \n",
    "\n",
    "numbers = [1, 2, 4, 5, 6]  # Missing number is 3\n",
    "print(find_missing_number(numbers))\n"
   ]
  },
  {
   "cell_type": "code",
   "execution_count": null,
   "id": "001ff6a9-6b78-4ad1-960d-3fd54f487ad3",
   "metadata": {},
   "outputs": [],
   "source": []
  }
 ],
 "metadata": {
  "kernelspec": {
   "display_name": "Python 3 (ipykernel)",
   "language": "python",
   "name": "python3"
  },
  "language_info": {
   "codemirror_mode": {
    "name": "ipython",
    "version": 3
   },
   "file_extension": ".py",
   "mimetype": "text/x-python",
   "name": "python",
   "nbconvert_exporter": "python",
   "pygments_lexer": "ipython3",
   "version": "3.12.7"
  }
 },
 "nbformat": 4,
 "nbformat_minor": 5
}
